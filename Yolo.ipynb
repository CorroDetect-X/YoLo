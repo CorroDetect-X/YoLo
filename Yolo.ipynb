{
  "cells": [
    {
      "cell_type": "code",
      "execution_count": 1,
      "metadata": {
        "colab": {
          "base_uri": "https://localhost:8080/"
        },
        "id": "_m378Oy-bFej",
        "outputId": "4c44f9cb-10f8-40d3-ec3d-3e147a0a4ecf"
      },
      "outputs": [
        {
          "name": "stdout",
          "output_type": "stream",
          "text": [
            "Collecting roboflow\n",
            "  Downloading roboflow-1.1.61-py3-none-any.whl.metadata (9.7 kB)\n",
            "Requirement already satisfied: certifi in /usr/local/lib/python3.11/dist-packages (from roboflow) (2025.1.31)\n",
            "Collecting idna==3.7 (from roboflow)\n",
            "  Downloading idna-3.7-py3-none-any.whl.metadata (9.9 kB)\n",
            "Requirement already satisfied: cycler in /usr/local/lib/python3.11/dist-packages (from roboflow) (0.12.1)\n",
            "Requirement already satisfied: kiwisolver>=1.3.1 in /usr/local/lib/python3.11/dist-packages (from roboflow) (1.4.8)\n",
            "Requirement already satisfied: matplotlib in /usr/local/lib/python3.11/dist-packages (from roboflow) (3.10.0)\n",
            "Requirement already satisfied: numpy>=1.18.5 in /usr/local/lib/python3.11/dist-packages (from roboflow) (2.0.2)\n",
            "Collecting opencv-python-headless==4.10.0.84 (from roboflow)\n",
            "  Downloading opencv_python_headless-4.10.0.84-cp37-abi3-manylinux_2_17_x86_64.manylinux2014_x86_64.whl.metadata (20 kB)\n",
            "Requirement already satisfied: Pillow>=7.1.2 in /usr/local/lib/python3.11/dist-packages (from roboflow) (11.1.0)\n",
            "Collecting pillow-heif>=0.18.0 (from roboflow)\n",
            "  Downloading pillow_heif-0.22.0-cp311-cp311-manylinux_2_17_x86_64.manylinux2014_x86_64.whl.metadata (9.6 kB)\n",
            "Requirement already satisfied: python-dateutil in /usr/local/lib/python3.11/dist-packages (from roboflow) (2.8.2)\n",
            "Collecting python-dotenv (from roboflow)\n",
            "  Downloading python_dotenv-1.1.0-py3-none-any.whl.metadata (24 kB)\n",
            "Requirement already satisfied: requests in /usr/local/lib/python3.11/dist-packages (from roboflow) (2.32.3)\n",
            "Requirement already satisfied: six in /usr/local/lib/python3.11/dist-packages (from roboflow) (1.17.0)\n",
            "Requirement already satisfied: urllib3>=1.26.6 in /usr/local/lib/python3.11/dist-packages (from roboflow) (2.3.0)\n",
            "Requirement already satisfied: tqdm>=4.41.0 in /usr/local/lib/python3.11/dist-packages (from roboflow) (4.67.1)\n",
            "Requirement already satisfied: PyYAML>=5.3.1 in /usr/local/lib/python3.11/dist-packages (from roboflow) (6.0.2)\n",
            "Requirement already satisfied: requests-toolbelt in /usr/local/lib/python3.11/dist-packages (from roboflow) (1.0.0)\n",
            "Collecting filetype (from roboflow)\n",
            "  Downloading filetype-1.2.0-py2.py3-none-any.whl.metadata (6.5 kB)\n",
            "Requirement already satisfied: contourpy>=1.0.1 in /usr/local/lib/python3.11/dist-packages (from matplotlib->roboflow) (1.3.2)\n",
            "Requirement already satisfied: fonttools>=4.22.0 in /usr/local/lib/python3.11/dist-packages (from matplotlib->roboflow) (4.57.0)\n",
            "Requirement already satisfied: packaging>=20.0 in /usr/local/lib/python3.11/dist-packages (from matplotlib->roboflow) (24.2)\n",
            "Requirement already satisfied: pyparsing>=2.3.1 in /usr/local/lib/python3.11/dist-packages (from matplotlib->roboflow) (3.2.3)\n",
            "Requirement already satisfied: charset-normalizer<4,>=2 in /usr/local/lib/python3.11/dist-packages (from requests->roboflow) (3.4.1)\n",
            "Downloading roboflow-1.1.61-py3-none-any.whl (85 kB)\n",
            "\u001b[2K   \u001b[90m━━━━━━━━━━━━━━━━━━━━━━━━━━━━━━━━━━━━━━━━\u001b[0m \u001b[32m85.2/85.2 kB\u001b[0m \u001b[31m5.7 MB/s\u001b[0m eta \u001b[36m0:00:00\u001b[0m\n",
            "\u001b[?25hDownloading idna-3.7-py3-none-any.whl (66 kB)\n",
            "\u001b[2K   \u001b[90m━━━━━━━━━━━━━━━━━━━━━━━━━━━━━━━━━━━━━━━━\u001b[0m \u001b[32m66.8/66.8 kB\u001b[0m \u001b[31m5.9 MB/s\u001b[0m eta \u001b[36m0:00:00\u001b[0m\n",
            "\u001b[?25hDownloading opencv_python_headless-4.10.0.84-cp37-abi3-manylinux_2_17_x86_64.manylinux2014_x86_64.whl (49.9 MB)\n",
            "\u001b[2K   \u001b[90m━━━━━━━━━━━━━━━━━━━━━━━━━━━━━━━━━━━━━━━━\u001b[0m \u001b[32m49.9/49.9 MB\u001b[0m \u001b[31m18.5 MB/s\u001b[0m eta \u001b[36m0:00:00\u001b[0m\n",
            "\u001b[?25hDownloading pillow_heif-0.22.0-cp311-cp311-manylinux_2_17_x86_64.manylinux2014_x86_64.whl (7.8 MB)\n",
            "\u001b[2K   \u001b[90m━━━━━━━━━━━━━━━━━━━━━━━━━━━━━━━━━━━━━━━━\u001b[0m \u001b[32m7.8/7.8 MB\u001b[0m \u001b[31m93.0 MB/s\u001b[0m eta \u001b[36m0:00:00\u001b[0m\n",
            "\u001b[?25hDownloading filetype-1.2.0-py2.py3-none-any.whl (19 kB)\n",
            "Downloading python_dotenv-1.1.0-py3-none-any.whl (20 kB)\n",
            "Installing collected packages: filetype, python-dotenv, pillow-heif, opencv-python-headless, idna, roboflow\n",
            "  Attempting uninstall: opencv-python-headless\n",
            "    Found existing installation: opencv-python-headless 4.11.0.86\n",
            "    Uninstalling opencv-python-headless-4.11.0.86:\n",
            "      Successfully uninstalled opencv-python-headless-4.11.0.86\n",
            "  Attempting uninstall: idna\n",
            "    Found existing installation: idna 3.10\n",
            "    Uninstalling idna-3.10:\n",
            "      Successfully uninstalled idna-3.10\n",
            "Successfully installed filetype-1.2.0 idna-3.7 opencv-python-headless-4.10.0.84 pillow-heif-0.22.0 python-dotenv-1.1.0 roboflow-1.1.61\n",
            "loading Roboflow workspace...\n",
            "loading Roboflow project...\n"
          ]
        },
        {
          "name": "stderr",
          "output_type": "stream",
          "text": [
            "Downloading Dataset Version Zip in Rust-1 to yolov9:: 100%|██████████| 55688/55688 [00:01<00:00, 44057.89it/s]"
          ]
        },
        {
          "name": "stdout",
          "output_type": "stream",
          "text": [
            "\n"
          ]
        },
        {
          "name": "stderr",
          "output_type": "stream",
          "text": [
            "\n",
            "Extracting Dataset Version Zip to Rust-1 in yolov9:: 100%|██████████| 2010/2010 [00:00<00:00, 7451.24it/s]\n"
          ]
        }
      ],
      "source": [
        "# this code is geven by roboflow  so the api key is unique\n",
        "!pip install roboflow\n",
        "\n",
        "\n",
        "from roboflow import Roboflow\n",
        "rf = Roboflow(api_key=\"3l2eWX0da70gPZRocYcT\")\n",
        "project = rf.workspace(\"kiot-utdwr\").project(\"rust-vmwoa\")\n",
        "version = project.version(1)\n",
        "dataset = version.download(\"yolov9\")\n",
        "\n"
      ]
    },
    {
      "cell_type": "code",
      "execution_count": 2,
      "metadata": {
        "colab": {
          "base_uri": "https://localhost:8080/"
        },
        "id": "Cp-H8tDGeKTC",
        "outputId": "e3a19bfc-d484-4b72-e27e-73022af229bc"
      },
      "outputs": [
        {
          "name": "stdout",
          "output_type": "stream",
          "text": [
            "Collecting ultralytics\n",
            "  Downloading ultralytics-8.3.116-py3-none-any.whl.metadata (37 kB)\n",
            "Requirement already satisfied: numpy<=2.1.1,>=1.23.0 in /usr/local/lib/python3.11/dist-packages (from ultralytics) (2.0.2)\n",
            "Requirement already satisfied: matplotlib>=3.3.0 in /usr/local/lib/python3.11/dist-packages (from ultralytics) (3.10.0)\n",
            "Requirement already satisfied: opencv-python>=4.6.0 in /usr/local/lib/python3.11/dist-packages (from ultralytics) (4.11.0.86)\n",
            "Requirement already satisfied: pillow>=7.1.2 in /usr/local/lib/python3.11/dist-packages (from ultralytics) (11.1.0)\n",
            "Requirement already satisfied: pyyaml>=5.3.1 in /usr/local/lib/python3.11/dist-packages (from ultralytics) (6.0.2)\n",
            "Requirement already satisfied: requests>=2.23.0 in /usr/local/lib/python3.11/dist-packages (from ultralytics) (2.32.3)\n",
            "Requirement already satisfied: scipy>=1.4.1 in /usr/local/lib/python3.11/dist-packages (from ultralytics) (1.14.1)\n",
            "Requirement already satisfied: torch>=1.8.0 in /usr/local/lib/python3.11/dist-packages (from ultralytics) (2.6.0+cu124)\n",
            "Requirement already satisfied: torchvision>=0.9.0 in /usr/local/lib/python3.11/dist-packages (from ultralytics) (0.21.0+cu124)\n",
            "Requirement already satisfied: tqdm>=4.64.0 in /usr/local/lib/python3.11/dist-packages (from ultralytics) (4.67.1)\n",
            "Requirement already satisfied: psutil in /usr/local/lib/python3.11/dist-packages (from ultralytics) (5.9.5)\n",
            "Requirement already satisfied: py-cpuinfo in /usr/local/lib/python3.11/dist-packages (from ultralytics) (9.0.0)\n",
            "Requirement already satisfied: pandas>=1.1.4 in /usr/local/lib/python3.11/dist-packages (from ultralytics) (2.2.2)\n",
            "Requirement already satisfied: seaborn>=0.11.0 in /usr/local/lib/python3.11/dist-packages (from ultralytics) (0.13.2)\n",
            "Collecting ultralytics-thop>=2.0.0 (from ultralytics)\n",
            "  Downloading ultralytics_thop-2.0.14-py3-none-any.whl.metadata (9.4 kB)\n",
            "Requirement already satisfied: contourpy>=1.0.1 in /usr/local/lib/python3.11/dist-packages (from matplotlib>=3.3.0->ultralytics) (1.3.2)\n",
            "Requirement already satisfied: cycler>=0.10 in /usr/local/lib/python3.11/dist-packages (from matplotlib>=3.3.0->ultralytics) (0.12.1)\n",
            "Requirement already satisfied: fonttools>=4.22.0 in /usr/local/lib/python3.11/dist-packages (from matplotlib>=3.3.0->ultralytics) (4.57.0)\n",
            "Requirement already satisfied: kiwisolver>=1.3.1 in /usr/local/lib/python3.11/dist-packages (from matplotlib>=3.3.0->ultralytics) (1.4.8)\n",
            "Requirement already satisfied: packaging>=20.0 in /usr/local/lib/python3.11/dist-packages (from matplotlib>=3.3.0->ultralytics) (24.2)\n",
            "Requirement already satisfied: pyparsing>=2.3.1 in /usr/local/lib/python3.11/dist-packages (from matplotlib>=3.3.0->ultralytics) (3.2.3)\n",
            "Requirement already satisfied: python-dateutil>=2.7 in /usr/local/lib/python3.11/dist-packages (from matplotlib>=3.3.0->ultralytics) (2.8.2)\n",
            "Requirement already satisfied: pytz>=2020.1 in /usr/local/lib/python3.11/dist-packages (from pandas>=1.1.4->ultralytics) (2025.2)\n",
            "Requirement already satisfied: tzdata>=2022.7 in /usr/local/lib/python3.11/dist-packages (from pandas>=1.1.4->ultralytics) (2025.2)\n",
            "Requirement already satisfied: charset-normalizer<4,>=2 in /usr/local/lib/python3.11/dist-packages (from requests>=2.23.0->ultralytics) (3.4.1)\n",
            "Requirement already satisfied: idna<4,>=2.5 in /usr/local/lib/python3.11/dist-packages (from requests>=2.23.0->ultralytics) (3.7)\n",
            "Requirement already satisfied: urllib3<3,>=1.21.1 in /usr/local/lib/python3.11/dist-packages (from requests>=2.23.0->ultralytics) (2.3.0)\n",
            "Requirement already satisfied: certifi>=2017.4.17 in /usr/local/lib/python3.11/dist-packages (from requests>=2.23.0->ultralytics) (2025.1.31)\n",
            "Requirement already satisfied: filelock in /usr/local/lib/python3.11/dist-packages (from torch>=1.8.0->ultralytics) (3.18.0)\n",
            "Requirement already satisfied: typing-extensions>=4.10.0 in /usr/local/lib/python3.11/dist-packages (from torch>=1.8.0->ultralytics) (4.13.2)\n",
            "Requirement already satisfied: networkx in /usr/local/lib/python3.11/dist-packages (from torch>=1.8.0->ultralytics) (3.4.2)\n",
            "Requirement already satisfied: jinja2 in /usr/local/lib/python3.11/dist-packages (from torch>=1.8.0->ultralytics) (3.1.6)\n",
            "Requirement already satisfied: fsspec in /usr/local/lib/python3.11/dist-packages (from torch>=1.8.0->ultralytics) (2025.3.2)\n",
            "Collecting nvidia-cuda-nvrtc-cu12==12.4.127 (from torch>=1.8.0->ultralytics)\n",
            "  Downloading nvidia_cuda_nvrtc_cu12-12.4.127-py3-none-manylinux2014_x86_64.whl.metadata (1.5 kB)\n",
            "Collecting nvidia-cuda-runtime-cu12==12.4.127 (from torch>=1.8.0->ultralytics)\n",
            "  Downloading nvidia_cuda_runtime_cu12-12.4.127-py3-none-manylinux2014_x86_64.whl.metadata (1.5 kB)\n",
            "Collecting nvidia-cuda-cupti-cu12==12.4.127 (from torch>=1.8.0->ultralytics)\n",
            "  Downloading nvidia_cuda_cupti_cu12-12.4.127-py3-none-manylinux2014_x86_64.whl.metadata (1.6 kB)\n",
            "Collecting nvidia-cudnn-cu12==9.1.0.70 (from torch>=1.8.0->ultralytics)\n",
            "  Downloading nvidia_cudnn_cu12-9.1.0.70-py3-none-manylinux2014_x86_64.whl.metadata (1.6 kB)\n",
            "Collecting nvidia-cublas-cu12==12.4.5.8 (from torch>=1.8.0->ultralytics)\n",
            "  Downloading nvidia_cublas_cu12-12.4.5.8-py3-none-manylinux2014_x86_64.whl.metadata (1.5 kB)\n",
            "Collecting nvidia-cufft-cu12==11.2.1.3 (from torch>=1.8.0->ultralytics)\n",
            "  Downloading nvidia_cufft_cu12-11.2.1.3-py3-none-manylinux2014_x86_64.whl.metadata (1.5 kB)\n",
            "Collecting nvidia-curand-cu12==10.3.5.147 (from torch>=1.8.0->ultralytics)\n",
            "  Downloading nvidia_curand_cu12-10.3.5.147-py3-none-manylinux2014_x86_64.whl.metadata (1.5 kB)\n",
            "Collecting nvidia-cusolver-cu12==11.6.1.9 (from torch>=1.8.0->ultralytics)\n",
            "  Downloading nvidia_cusolver_cu12-11.6.1.9-py3-none-manylinux2014_x86_64.whl.metadata (1.6 kB)\n",
            "Collecting nvidia-cusparse-cu12==12.3.1.170 (from torch>=1.8.0->ultralytics)\n",
            "  Downloading nvidia_cusparse_cu12-12.3.1.170-py3-none-manylinux2014_x86_64.whl.metadata (1.6 kB)\n",
            "Requirement already satisfied: nvidia-cusparselt-cu12==0.6.2 in /usr/local/lib/python3.11/dist-packages (from torch>=1.8.0->ultralytics) (0.6.2)\n",
            "Requirement already satisfied: nvidia-nccl-cu12==2.21.5 in /usr/local/lib/python3.11/dist-packages (from torch>=1.8.0->ultralytics) (2.21.5)\n",
            "Requirement already satisfied: nvidia-nvtx-cu12==12.4.127 in /usr/local/lib/python3.11/dist-packages (from torch>=1.8.0->ultralytics) (12.4.127)\n",
            "Collecting nvidia-nvjitlink-cu12==12.4.127 (from torch>=1.8.0->ultralytics)\n",
            "  Downloading nvidia_nvjitlink_cu12-12.4.127-py3-none-manylinux2014_x86_64.whl.metadata (1.5 kB)\n",
            "Requirement already satisfied: triton==3.2.0 in /usr/local/lib/python3.11/dist-packages (from torch>=1.8.0->ultralytics) (3.2.0)\n",
            "Requirement already satisfied: sympy==1.13.1 in /usr/local/lib/python3.11/dist-packages (from torch>=1.8.0->ultralytics) (1.13.1)\n",
            "Requirement already satisfied: mpmath<1.4,>=1.1.0 in /usr/local/lib/python3.11/dist-packages (from sympy==1.13.1->torch>=1.8.0->ultralytics) (1.3.0)\n",
            "Requirement already satisfied: six>=1.5 in /usr/local/lib/python3.11/dist-packages (from python-dateutil>=2.7->matplotlib>=3.3.0->ultralytics) (1.17.0)\n",
            "Requirement already satisfied: MarkupSafe>=2.0 in /usr/local/lib/python3.11/dist-packages (from jinja2->torch>=1.8.0->ultralytics) (3.0.2)\n",
            "Downloading ultralytics-8.3.116-py3-none-any.whl (984 kB)\n",
            "\u001b[2K   \u001b[90m━━━━━━━━━━━━━━━━━━━━━━━━━━━━━━━━━━━━━━━━\u001b[0m \u001b[32m984.0/984.0 kB\u001b[0m \u001b[31m26.1 MB/s\u001b[0m eta \u001b[36m0:00:00\u001b[0m\n",
            "\u001b[?25hDownloading nvidia_cublas_cu12-12.4.5.8-py3-none-manylinux2014_x86_64.whl (363.4 MB)\n",
            "\u001b[2K   \u001b[90m━━━━━━━━━━━━━━━━━━━━━━━━━━━━━━━━━━━━━━━━\u001b[0m \u001b[32m363.4/363.4 MB\u001b[0m \u001b[31m4.4 MB/s\u001b[0m eta \u001b[36m0:00:00\u001b[0m\n",
            "\u001b[?25hDownloading nvidia_cuda_cupti_cu12-12.4.127-py3-none-manylinux2014_x86_64.whl (13.8 MB)\n",
            "\u001b[2K   \u001b[90m━━━━━━━━━━━━━━━━━━━━━━━━━━━━━━━━━━━━━━━━\u001b[0m \u001b[32m13.8/13.8 MB\u001b[0m \u001b[31m67.5 MB/s\u001b[0m eta \u001b[36m0:00:00\u001b[0m\n",
            "\u001b[?25hDownloading nvidia_cuda_nvrtc_cu12-12.4.127-py3-none-manylinux2014_x86_64.whl (24.6 MB)\n",
            "\u001b[2K   \u001b[90m━━━━━━━━━━━━━━━━━━━━━━━━━━━━━━━━━━━━━━━━\u001b[0m \u001b[32m24.6/24.6 MB\u001b[0m \u001b[31m37.2 MB/s\u001b[0m eta \u001b[36m0:00:00\u001b[0m\n",
            "\u001b[?25hDownloading nvidia_cuda_runtime_cu12-12.4.127-py3-none-manylinux2014_x86_64.whl (883 kB)\n",
            "\u001b[2K   \u001b[90m━━━━━━━━━━━━━━━━━━━━━━━━━━━━━━━━━━━━━━━━\u001b[0m \u001b[32m883.7/883.7 kB\u001b[0m \u001b[31m46.9 MB/s\u001b[0m eta \u001b[36m0:00:00\u001b[0m\n",
            "\u001b[?25hDownloading nvidia_cudnn_cu12-9.1.0.70-py3-none-manylinux2014_x86_64.whl (664.8 MB)\n",
            "\u001b[2K   \u001b[90m━━━━━━━━━━━━━━━━━━━━━━━━━━━━━━━━━━━━━━━━\u001b[0m \u001b[32m664.8/664.8 MB\u001b[0m \u001b[31m2.2 MB/s\u001b[0m eta \u001b[36m0:00:00\u001b[0m\n",
            "\u001b[?25hDownloading nvidia_cufft_cu12-11.2.1.3-py3-none-manylinux2014_x86_64.whl (211.5 MB)\n",
            "\u001b[2K   \u001b[90m━━━━━━━━━━━━━━━━━━━━━━━━━━━━━━━━━━━━━━━━\u001b[0m \u001b[32m211.5/211.5 MB\u001b[0m \u001b[31m5.5 MB/s\u001b[0m eta \u001b[36m0:00:00\u001b[0m\n",
            "\u001b[?25hDownloading nvidia_curand_cu12-10.3.5.147-py3-none-manylinux2014_x86_64.whl (56.3 MB)\n",
            "\u001b[2K   \u001b[90m━━━━━━━━━━━━━━━━━━━━━━━━━━━━━━━━━━━━━━━━\u001b[0m \u001b[32m56.3/56.3 MB\u001b[0m \u001b[31m17.3 MB/s\u001b[0m eta \u001b[36m0:00:00\u001b[0m\n",
            "\u001b[?25hDownloading nvidia_cusolver_cu12-11.6.1.9-py3-none-manylinux2014_x86_64.whl (127.9 MB)\n",
            "\u001b[2K   \u001b[90m━━━━━━━━━━━━━━━━━━━━━━━━━━━━━━━━━━━━━━━━\u001b[0m \u001b[32m127.9/127.9 MB\u001b[0m \u001b[31m7.3 MB/s\u001b[0m eta \u001b[36m0:00:00\u001b[0m\n",
            "\u001b[?25hDownloading nvidia_cusparse_cu12-12.3.1.170-py3-none-manylinux2014_x86_64.whl (207.5 MB)\n",
            "\u001b[2K   \u001b[90m━━━━━━━━━━━━━━━━━━━━━━━━━━━━━━━━━━━━━━━━\u001b[0m \u001b[32m207.5/207.5 MB\u001b[0m \u001b[31m5.2 MB/s\u001b[0m eta \u001b[36m0:00:00\u001b[0m\n",
            "\u001b[?25hDownloading nvidia_nvjitlink_cu12-12.4.127-py3-none-manylinux2014_x86_64.whl (21.1 MB)\n",
            "\u001b[2K   \u001b[90m━━━━━━━━━━━━━━━━━━━━━━━━━━━━━━━━━━━━━━━━\u001b[0m \u001b[32m21.1/21.1 MB\u001b[0m \u001b[31m73.2 MB/s\u001b[0m eta \u001b[36m0:00:00\u001b[0m\n",
            "\u001b[?25hDownloading ultralytics_thop-2.0.14-py3-none-any.whl (26 kB)\n",
            "Installing collected packages: nvidia-nvjitlink-cu12, nvidia-curand-cu12, nvidia-cufft-cu12, nvidia-cuda-runtime-cu12, nvidia-cuda-nvrtc-cu12, nvidia-cuda-cupti-cu12, nvidia-cublas-cu12, nvidia-cusparse-cu12, nvidia-cudnn-cu12, nvidia-cusolver-cu12, ultralytics-thop, ultralytics\n",
            "  Attempting uninstall: nvidia-nvjitlink-cu12\n",
            "    Found existing installation: nvidia-nvjitlink-cu12 12.5.82\n",
            "    Uninstalling nvidia-nvjitlink-cu12-12.5.82:\n",
            "      Successfully uninstalled nvidia-nvjitlink-cu12-12.5.82\n",
            "  Attempting uninstall: nvidia-curand-cu12\n",
            "    Found existing installation: nvidia-curand-cu12 10.3.6.82\n",
            "    Uninstalling nvidia-curand-cu12-10.3.6.82:\n",
            "      Successfully uninstalled nvidia-curand-cu12-10.3.6.82\n",
            "  Attempting uninstall: nvidia-cufft-cu12\n",
            "    Found existing installation: nvidia-cufft-cu12 11.2.3.61\n",
            "    Uninstalling nvidia-cufft-cu12-11.2.3.61:\n",
            "      Successfully uninstalled nvidia-cufft-cu12-11.2.3.61\n",
            "  Attempting uninstall: nvidia-cuda-runtime-cu12\n",
            "    Found existing installation: nvidia-cuda-runtime-cu12 12.5.82\n",
            "    Uninstalling nvidia-cuda-runtime-cu12-12.5.82:\n",
            "      Successfully uninstalled nvidia-cuda-runtime-cu12-12.5.82\n",
            "  Attempting uninstall: nvidia-cuda-nvrtc-cu12\n",
            "    Found existing installation: nvidia-cuda-nvrtc-cu12 12.5.82\n",
            "    Uninstalling nvidia-cuda-nvrtc-cu12-12.5.82:\n",
            "      Successfully uninstalled nvidia-cuda-nvrtc-cu12-12.5.82\n",
            "  Attempting uninstall: nvidia-cuda-cupti-cu12\n",
            "    Found existing installation: nvidia-cuda-cupti-cu12 12.5.82\n",
            "    Uninstalling nvidia-cuda-cupti-cu12-12.5.82:\n",
            "      Successfully uninstalled nvidia-cuda-cupti-cu12-12.5.82\n",
            "  Attempting uninstall: nvidia-cublas-cu12\n",
            "    Found existing installation: nvidia-cublas-cu12 12.5.3.2\n",
            "    Uninstalling nvidia-cublas-cu12-12.5.3.2:\n",
            "      Successfully uninstalled nvidia-cublas-cu12-12.5.3.2\n",
            "  Attempting uninstall: nvidia-cusparse-cu12\n",
            "    Found existing installation: nvidia-cusparse-cu12 12.5.1.3\n",
            "    Uninstalling nvidia-cusparse-cu12-12.5.1.3:\n",
            "      Successfully uninstalled nvidia-cusparse-cu12-12.5.1.3\n",
            "  Attempting uninstall: nvidia-cudnn-cu12\n",
            "    Found existing installation: nvidia-cudnn-cu12 9.3.0.75\n",
            "    Uninstalling nvidia-cudnn-cu12-9.3.0.75:\n",
            "      Successfully uninstalled nvidia-cudnn-cu12-9.3.0.75\n",
            "  Attempting uninstall: nvidia-cusolver-cu12\n",
            "    Found existing installation: nvidia-cusolver-cu12 11.6.3.83\n",
            "    Uninstalling nvidia-cusolver-cu12-11.6.3.83:\n",
            "      Successfully uninstalled nvidia-cusolver-cu12-11.6.3.83\n",
            "Successfully installed nvidia-cublas-cu12-12.4.5.8 nvidia-cuda-cupti-cu12-12.4.127 nvidia-cuda-nvrtc-cu12-12.4.127 nvidia-cuda-runtime-cu12-12.4.127 nvidia-cudnn-cu12-9.1.0.70 nvidia-cufft-cu12-11.2.1.3 nvidia-curand-cu12-10.3.5.147 nvidia-cusolver-cu12-11.6.1.9 nvidia-cusparse-cu12-12.3.1.170 nvidia-nvjitlink-cu12-12.4.127 ultralytics-8.3.116 ultralytics-thop-2.0.14\n"
          ]
        }
      ],
      "source": [
        "!pip install ultralytics"
      ]
    },
    {
      "cell_type": "code",
      "execution_count": 3,
      "metadata": {
        "id": "dAdSECGEeKzR"
      },
      "outputs": [],
      "source": [
        "from ultralytics import YOLO"
      ]
    },
    {
      "cell_type": "code",
      "execution_count": 4,
      "metadata": {
        "colab": {
          "base_uri": "https://localhost:8080/"
        },
        "id": "HhN8F7tqeK01",
        "outputId": "b679566e-a308-4576-f8c1-6c59b496c2ab"
      },
      "outputs": [
        {
          "name": "stdout",
          "output_type": "stream",
          "text": [
            "Downloading https://github.com/ultralytics/assets/releases/download/v8.3.0/yolov9m.pt to 'yolov9m.pt'...\n"
          ]
        },
        {
          "name": "stderr",
          "output_type": "stream",
          "text": [
            "100%|██████████| 39.1M/39.1M [00:00<00:00, 100MB/s] \n"
          ]
        }
      ],
      "source": [
        "model  = YOLO(\"yolov9m\")"
      ]
    },
    {
      "cell_type": "code",
      "execution_count": null,
      "metadata": {
        "colab": {
          "base_uri": "https://localhost:8080/"
        },
        "id": "mGKRNcB4eK8_",
        "outputId": "d00e2a14-446e-4682-a802-aaac3a124bd1"
      },
      "outputs": [
        {
          "name": "stdout",
          "output_type": "stream",
          "text": [
            "Ultralytics 8.3.116 🚀 Python-3.11.12 torch-2.6.0+cu124 CUDA:0 (Tesla T4, 15095MiB)\n",
            "\u001b[34m\u001b[1mengine/trainer: \u001b[0mtask=detect, mode=train, model=yolov9m.pt, data=/content/Rust-1/data.yaml, epochs=30, time=None, patience=100, batch=16, imgsz=640, save=True, save_period=-1, cache=False, device=0, workers=4, project=None, name=yolov9m_train, exist_ok=False, pretrained=True, optimizer=auto, verbose=True, seed=0, deterministic=True, single_cls=False, rect=False, cos_lr=False, close_mosaic=10, resume=False, amp=True, fraction=1.0, profile=False, freeze=None, multi_scale=False, overlap_mask=True, mask_ratio=4, dropout=0.0, val=True, split=val, save_json=False, conf=None, iou=0.7, max_det=300, half=False, dnn=False, plots=True, source=None, vid_stride=1, stream_buffer=False, visualize=False, augment=False, agnostic_nms=False, classes=None, retina_masks=False, embed=None, show=False, save_frames=False, save_txt=False, save_conf=False, save_crop=False, show_labels=True, show_conf=True, show_boxes=True, line_width=None, format=torchscript, keras=False, optimize=False, int8=False, dynamic=False, simplify=True, opset=None, workspace=None, nms=False, lr0=0.01, lrf=0.01, momentum=0.937, weight_decay=0.0005, warmup_epochs=3.0, warmup_momentum=0.8, warmup_bias_lr=0.1, box=7.5, cls=0.5, dfl=1.5, pose=12.0, kobj=1.0, nbs=64, hsv_h=0.015, hsv_s=0.7, hsv_v=0.4, degrees=0.0, translate=0.1, scale=0.5, shear=0.0, perspective=0.0, flipud=0.0, fliplr=0.5, bgr=0.0, mosaic=1.0, mixup=0.0, copy_paste=0.0, copy_paste_mode=flip, auto_augment=randaugment, erasing=0.4, cfg=None, tracker=botsort.yaml, save_dir=runs/detect/yolov9m_train\n",
            "Downloading https://ultralytics.com/assets/Arial.ttf to '/root/.config/Ultralytics/Arial.ttf'...\n"
          ]
        },
        {
          "name": "stderr",
          "output_type": "stream",
          "text": [
            "100%|██████████| 755k/755k [00:00<00:00, 21.2MB/s]"
          ]
        },
        {
          "name": "stdout",
          "output_type": "stream",
          "text": [
            "Overriding model.yaml nc=80 with nc=1\n",
            "\n",
            "                   from  n    params  module                                       arguments                     \n",
            "  0                  -1  1       928  ultralytics.nn.modules.conv.Conv             [3, 32, 3, 2]                 \n",
            "  1                  -1  1     18560  ultralytics.nn.modules.conv.Conv             [32, 64, 3, 2]                \n",
            "  2                  -1  1    171648  ultralytics.nn.modules.block.RepNCSPELAN4    [64, 128, 128, 64, 1]         \n",
            "  3                  -1  1    276960  ultralytics.nn.modules.block.AConv           [128, 240]                    \n",
            "  4                  -1  1    629520  ultralytics.nn.modules.block.RepNCSPELAN4    [240, 240, 240, 120, 1]       \n",
            "  5                  -1  1    778320  ultralytics.nn.modules.block.AConv           [240, 360]                    \n",
            "  6                  -1  1   1414080  ultralytics.nn.modules.block.RepNCSPELAN4    [360, 360, 360, 180, 1]       \n",
            "  7                  -1  1   1556160  ultralytics.nn.modules.block.AConv           [360, 480]                    \n",
            "  8                  -1  1   2511840  ultralytics.nn.modules.block.RepNCSPELAN4    [480, 480, 480, 240, 1]       \n",
            "  9                  -1  1    577440  ultralytics.nn.modules.block.SPPELAN         [480, 480, 240]               \n",
            " 10                  -1  1         0  torch.nn.modules.upsampling.Upsample         [None, 2, 'nearest']          \n",
            " 11             [-1, 6]  1         0  ultralytics.nn.modules.conv.Concat           [1]                           \n",
            " 12                  -1  1   1586880  ultralytics.nn.modules.block.RepNCSPELAN4    [840, 360, 360, 180, 1]       \n",
            " 13                  -1  1         0  torch.nn.modules.upsampling.Upsample         [None, 2, 'nearest']          \n",
            " 14             [-1, 4]  1         0  ultralytics.nn.modules.conv.Concat           [1]                           \n"
          ]
        },
        {
          "name": "stderr",
          "output_type": "stream",
          "text": [
            "\n"
          ]
        },
        {
          "name": "stdout",
          "output_type": "stream",
          "text": [
            " 15                  -1  1    715920  ultralytics.nn.modules.block.RepNCSPELAN4    [600, 240, 240, 120, 1]       \n",
            " 16                  -1  1    397808  ultralytics.nn.modules.block.AConv           [240, 184]                    \n",
            " 17            [-1, 12]  1         0  ultralytics.nn.modules.conv.Concat           [1]                           \n",
            " 18                  -1  1   1480320  ultralytics.nn.modules.block.RepNCSPELAN4    [544, 360, 360, 180, 1]       \n",
            " 19                  -1  1    778080  ultralytics.nn.modules.block.AConv           [360, 240]                    \n",
            " 20             [-1, 9]  1         0  ultralytics.nn.modules.conv.Concat           [1]                           \n",
            " 21                  -1  1   2627040  ultralytics.nn.modules.block.RepNCSPELAN4    [720, 480, 480, 240, 1]       \n",
            " 22        [15, 18, 21]  1   4637539  ultralytics.nn.modules.head.Detect           [1, [240, 360, 480]]          \n",
            "YOLOv9m summary: 348 layers, 20,159,043 parameters, 20,159,027 gradients, 77.5 GFLOPs\n",
            "\n",
            "Transferred 901/907 items from pretrained weights\n",
            "Freezing layer 'model.22.dfl.conv.weight'\n",
            "\u001b[34m\u001b[1mAMP: \u001b[0mrunning Automatic Mixed Precision (AMP) checks...\n",
            "Downloading https://github.com/ultralytics/assets/releases/download/v8.3.0/yolo11n.pt to 'yolo11n.pt'...\n"
          ]
        },
        {
          "name": "stderr",
          "output_type": "stream",
          "text": [
            "100%|██████████| 5.35M/5.35M [00:00<00:00, 113MB/s]\n"
          ]
        },
        {
          "name": "stdout",
          "output_type": "stream",
          "text": [
            "\u001b[34m\u001b[1mAMP: \u001b[0mchecks passed ✅\n",
            "\u001b[34m\u001b[1mtrain: \u001b[0mFast image access ✅ (ping: 0.0±0.0 ms, read: 17.9±7.7 MB/s, size: 48.3 KB)\n"
          ]
        },
        {
          "name": "stderr",
          "output_type": "stream",
          "text": [
            "\u001b[34m\u001b[1mtrain: \u001b[0mScanning /content/Rust-1/train/labels... 699 images, 0 backgrounds, 0 corrupt: 100%|██████████| 699/699 [00:01<00:00, 635.11it/s]"
          ]
        },
        {
          "name": "stdout",
          "output_type": "stream",
          "text": [
            "\u001b[34m\u001b[1mtrain: \u001b[0mNew cache created: /content/Rust-1/train/labels.cache\n"
          ]
        },
        {
          "name": "stderr",
          "output_type": "stream",
          "text": [
            "\n"
          ]
        },
        {
          "name": "stdout",
          "output_type": "stream",
          "text": [
            "\u001b[34m\u001b[1malbumentations: \u001b[0mBlur(p=0.01, blur_limit=(3, 7)), MedianBlur(p=0.01, blur_limit=(3, 7)), ToGray(p=0.01, num_output_channels=3, method='weighted_average'), CLAHE(p=0.01, clip_limit=(1.0, 4.0), tile_grid_size=(8, 8))\n",
            "\u001b[34m\u001b[1mval: \u001b[0mFast image access ✅ (ping: 0.0±0.0 ms, read: 11.0±6.7 MB/s, size: 33.8 KB)\n"
          ]
        },
        {
          "name": "stderr",
          "output_type": "stream",
          "text": [
            "\u001b[34m\u001b[1mval: \u001b[0mScanning /content/Rust-1/valid/labels... 200 images, 0 backgrounds, 0 corrupt: 100%|██████████| 200/200 [00:00<00:00, 626.94it/s]"
          ]
        },
        {
          "name": "stdout",
          "output_type": "stream",
          "text": [
            "\u001b[34m\u001b[1mval: \u001b[0mNew cache created: /content/Rust-1/valid/labels.cache\n"
          ]
        },
        {
          "name": "stderr",
          "output_type": "stream",
          "text": [
            "\n"
          ]
        },
        {
          "name": "stdout",
          "output_type": "stream",
          "text": [
            "Plotting labels to runs/detect/yolov9m_train/labels.jpg... \n",
            "\u001b[34m\u001b[1moptimizer:\u001b[0m 'optimizer=auto' found, ignoring 'lr0=0.01' and 'momentum=0.937' and determining best 'optimizer', 'lr0' and 'momentum' automatically... \n",
            "\u001b[34m\u001b[1moptimizer:\u001b[0m AdamW(lr=0.002, momentum=0.9) with parameter groups 149 weight(decay=0.0), 156 weight(decay=0.0005), 155 bias(decay=0.0)\n",
            "Image sizes 640 train, 640 val\n",
            "Using 2 dataloader workers\n",
            "Logging results to \u001b[1mruns/detect/yolov9m_train\u001b[0m\n",
            "Starting training for 30 epochs...\n",
            "\n",
            "      Epoch    GPU_mem   box_loss   cls_loss   dfl_loss  Instances       Size\n"
          ]
        },
        {
          "name": "stderr",
          "output_type": "stream",
          "text": [
            "       1/30      7.66G      1.077      1.879      1.482         57        640: 100%|██████████| 44/44 [00:30<00:00,  1.43it/s]\n",
            "                 Class     Images  Instances      Box(P          R      mAP50  mAP50-95): 100%|██████████| 7/7 [00:04<00:00,  1.57it/s]"
          ]
        },
        {
          "name": "stdout",
          "output_type": "stream",
          "text": [
            "                   all        200        573      0.197      0.307      0.119     0.0465\n"
          ]
        },
        {
          "name": "stderr",
          "output_type": "stream",
          "text": [
            "\n"
          ]
        },
        {
          "name": "stdout",
          "output_type": "stream",
          "text": [
            "\n",
            "      Epoch    GPU_mem   box_loss   cls_loss   dfl_loss  Instances       Size\n"
          ]
        },
        {
          "name": "stderr",
          "output_type": "stream",
          "text": [
            "       2/30      7.74G      1.308      1.663      1.649         70        640: 100%|██████████| 44/44 [00:28<00:00,  1.56it/s]\n",
            "                 Class     Images  Instances      Box(P          R      mAP50  mAP50-95): 100%|██████████| 7/7 [00:03<00:00,  1.92it/s]"
          ]
        },
        {
          "name": "stdout",
          "output_type": "stream",
          "text": [
            "                   all        200        573     0.0145     0.0471    0.00511     0.0018\n"
          ]
        },
        {
          "name": "stderr",
          "output_type": "stream",
          "text": [
            "\n"
          ]
        },
        {
          "name": "stdout",
          "output_type": "stream",
          "text": [
            "\n",
            "      Epoch    GPU_mem   box_loss   cls_loss   dfl_loss  Instances       Size\n"
          ]
        },
        {
          "name": "stderr",
          "output_type": "stream",
          "text": [
            "       3/30      7.71G       1.36      1.692      1.692         61        640: 100%|██████████| 44/44 [00:28<00:00,  1.55it/s]\n",
            "                 Class     Images  Instances      Box(P          R      mAP50  mAP50-95): 100%|██████████| 7/7 [00:03<00:00,  2.13it/s]"
          ]
        },
        {
          "name": "stdout",
          "output_type": "stream",
          "text": [
            "                   all        200        573     0.0218     0.0227    0.00179   0.000448\n"
          ]
        },
        {
          "name": "stderr",
          "output_type": "stream",
          "text": [
            "\n"
          ]
        },
        {
          "name": "stdout",
          "output_type": "stream",
          "text": [
            "\n",
            "      Epoch    GPU_mem   box_loss   cls_loss   dfl_loss  Instances       Size\n"
          ]
        },
        {
          "name": "stderr",
          "output_type": "stream",
          "text": [
            "       4/30      7.74G      1.352      1.685      1.695         88        640: 100%|██████████| 44/44 [00:28<00:00,  1.52it/s]\n",
            "                 Class     Images  Instances      Box(P          R      mAP50  mAP50-95): 100%|██████████| 7/7 [00:03<00:00,  1.97it/s]\n"
          ]
        },
        {
          "name": "stdout",
          "output_type": "stream",
          "text": [
            "                   all        200        573      0.054     0.0937     0.0222       0.01\n",
            "\n",
            "      Epoch    GPU_mem   box_loss   cls_loss   dfl_loss  Instances       Size\n"
          ]
        },
        {
          "name": "stderr",
          "output_type": "stream",
          "text": [
            "       5/30      7.76G      1.233      1.561      1.614         68        640: 100%|██████████| 44/44 [00:28<00:00,  1.53it/s]\n",
            "                 Class     Images  Instances      Box(P          R      mAP50  mAP50-95): 100%|██████████| 7/7 [00:03<00:00,  1.94it/s]"
          ]
        },
        {
          "name": "stdout",
          "output_type": "stream",
          "text": [
            "                   all        200        573      0.211      0.224      0.137     0.0498\n"
          ]
        },
        {
          "name": "stderr",
          "output_type": "stream",
          "text": [
            "\n"
          ]
        },
        {
          "name": "stdout",
          "output_type": "stream",
          "text": [
            "\n",
            "      Epoch    GPU_mem   box_loss   cls_loss   dfl_loss  Instances       Size\n"
          ]
        },
        {
          "name": "stderr",
          "output_type": "stream",
          "text": [
            "       6/30      7.76G      1.202      1.516      1.561         89        640: 100%|██████████| 44/44 [00:28<00:00,  1.54it/s]\n",
            "                 Class     Images  Instances      Box(P          R      mAP50  mAP50-95): 100%|██████████| 7/7 [00:03<00:00,  1.98it/s]\n"
          ]
        },
        {
          "name": "stdout",
          "output_type": "stream",
          "text": [
            "                   all        200        573       0.23      0.372      0.162     0.0676\n",
            "\n",
            "      Epoch    GPU_mem   box_loss   cls_loss   dfl_loss  Instances       Size\n"
          ]
        },
        {
          "name": "stderr",
          "output_type": "stream",
          "text": [
            "       7/30      7.73G      1.143      1.499       1.53         63        640: 100%|██████████| 44/44 [00:28<00:00,  1.52it/s]\n",
            "                 Class     Images  Instances      Box(P          R      mAP50  mAP50-95): 100%|██████████| 7/7 [00:03<00:00,  1.98it/s]\n"
          ]
        },
        {
          "name": "stdout",
          "output_type": "stream",
          "text": [
            "                   all        200        573      0.365       0.38      0.299      0.159\n",
            "\n",
            "      Epoch    GPU_mem   box_loss   cls_loss   dfl_loss  Instances       Size\n"
          ]
        },
        {
          "name": "stderr",
          "output_type": "stream",
          "text": [
            "       8/30      7.73G      1.141       1.45      1.526         74        640: 100%|██████████| 44/44 [00:28<00:00,  1.54it/s]\n",
            "                 Class     Images  Instances      Box(P          R      mAP50  mAP50-95): 100%|██████████| 7/7 [00:03<00:00,  1.90it/s]"
          ]
        },
        {
          "name": "stdout",
          "output_type": "stream",
          "text": [
            "                   all        200        573      0.554      0.419      0.448      0.221\n"
          ]
        },
        {
          "name": "stderr",
          "output_type": "stream",
          "text": [
            "\n"
          ]
        },
        {
          "name": "stdout",
          "output_type": "stream",
          "text": [
            "\n",
            "      Epoch    GPU_mem   box_loss   cls_loss   dfl_loss  Instances       Size\n"
          ]
        },
        {
          "name": "stderr",
          "output_type": "stream",
          "text": [
            "       9/30      7.73G      1.083      1.428      1.522         55        640: 100%|██████████| 44/44 [00:28<00:00,  1.53it/s]\n",
            "                 Class     Images  Instances      Box(P          R      mAP50  mAP50-95): 100%|██████████| 7/7 [00:03<00:00,  1.99it/s]\n"
          ]
        },
        {
          "name": "stdout",
          "output_type": "stream",
          "text": [
            "                   all        200        573      0.601      0.455      0.486      0.304\n",
            "\n",
            "      Epoch    GPU_mem   box_loss   cls_loss   dfl_loss  Instances       Size\n"
          ]
        },
        {
          "name": "stderr",
          "output_type": "stream",
          "text": [
            "      10/30      7.73G      1.077      1.429       1.49         72        640: 100%|██████████| 44/44 [00:28<00:00,  1.52it/s]\n",
            "                 Class     Images  Instances      Box(P          R      mAP50  mAP50-95): 100%|██████████| 7/7 [00:03<00:00,  1.99it/s]\n"
          ]
        },
        {
          "name": "stdout",
          "output_type": "stream",
          "text": [
            "                   all        200        573      0.388      0.487      0.303      0.163\n",
            "\n",
            "      Epoch    GPU_mem   box_loss   cls_loss   dfl_loss  Instances       Size\n"
          ]
        },
        {
          "name": "stderr",
          "output_type": "stream",
          "text": [
            "      11/30      7.76G      1.015      1.344       1.44         60        640: 100%|██████████| 44/44 [00:28<00:00,  1.53it/s]\n",
            "                 Class     Images  Instances      Box(P          R      mAP50  mAP50-95): 100%|██████████| 7/7 [00:03<00:00,  1.84it/s]"
          ]
        },
        {
          "name": "stdout",
          "output_type": "stream",
          "text": [
            "                   all        200        573       0.54      0.471      0.479      0.308\n"
          ]
        },
        {
          "name": "stderr",
          "output_type": "stream",
          "text": [
            "\n"
          ]
        },
        {
          "name": "stdout",
          "output_type": "stream",
          "text": [
            "\n",
            "      Epoch    GPU_mem   box_loss   cls_loss   dfl_loss  Instances       Size\n"
          ]
        },
        {
          "name": "stderr",
          "output_type": "stream",
          "text": [
            "      12/30      7.78G      1.004      1.309       1.44         51        640: 100%|██████████| 44/44 [00:28<00:00,  1.54it/s]\n",
            "                 Class     Images  Instances      Box(P          R      mAP50  mAP50-95): 100%|██████████| 7/7 [00:03<00:00,  2.00it/s]\n"
          ]
        },
        {
          "name": "stdout",
          "output_type": "stream",
          "text": [
            "                   all        200        573      0.629      0.467      0.549      0.338\n",
            "\n",
            "      Epoch    GPU_mem   box_loss   cls_loss   dfl_loss  Instances       Size\n"
          ]
        },
        {
          "name": "stderr",
          "output_type": "stream",
          "text": [
            "      13/30      7.76G     0.9849      1.308      1.433         79        640: 100%|██████████| 44/44 [00:28<00:00,  1.53it/s]\n",
            "                 Class     Images  Instances      Box(P          R      mAP50  mAP50-95): 100%|██████████| 7/7 [00:03<00:00,  2.00it/s]\n"
          ]
        },
        {
          "name": "stdout",
          "output_type": "stream",
          "text": [
            "                   all        200        573      0.564      0.546      0.538      0.319\n",
            "\n",
            "      Epoch    GPU_mem   box_loss   cls_loss   dfl_loss  Instances       Size\n"
          ]
        },
        {
          "name": "stderr",
          "output_type": "stream",
          "text": [
            "      14/30      7.78G      0.971      1.292      1.435         79        640: 100%|██████████| 44/44 [00:28<00:00,  1.54it/s]\n",
            "                 Class     Images  Instances      Box(P          R      mAP50  mAP50-95): 100%|██████████| 7/7 [00:03<00:00,  1.82it/s]"
          ]
        },
        {
          "name": "stdout",
          "output_type": "stream",
          "text": [
            "                   all        200        573      0.623      0.525      0.564       0.37\n"
          ]
        },
        {
          "name": "stderr",
          "output_type": "stream",
          "text": [
            "\n"
          ]
        },
        {
          "name": "stdout",
          "output_type": "stream",
          "text": [
            "\n",
            "      Epoch    GPU_mem   box_loss   cls_loss   dfl_loss  Instances       Size\n"
          ]
        },
        {
          "name": "stderr",
          "output_type": "stream",
          "text": [
            "      15/30      7.73G     0.9567      1.238      1.404         83        640: 100%|██████████| 44/44 [00:28<00:00,  1.54it/s]\n",
            "                 Class     Images  Instances      Box(P          R      mAP50  mAP50-95): 100%|██████████| 7/7 [00:03<00:00,  2.00it/s]\n"
          ]
        },
        {
          "name": "stdout",
          "output_type": "stream",
          "text": [
            "                   all        200        573       0.64       0.52       0.57      0.374\n",
            "\n",
            "      Epoch    GPU_mem   box_loss   cls_loss   dfl_loss  Instances       Size\n"
          ]
        },
        {
          "name": "stderr",
          "output_type": "stream",
          "text": [
            "      16/30      7.73G     0.9396      1.252      1.386         54        640: 100%|██████████| 44/44 [00:28<00:00,  1.53it/s]\n",
            "                 Class     Images  Instances      Box(P          R      mAP50  mAP50-95): 100%|██████████| 7/7 [00:03<00:00,  2.00it/s]\n"
          ]
        },
        {
          "name": "stdout",
          "output_type": "stream",
          "text": [
            "                   all        200        573      0.601      0.539      0.581      0.375\n",
            "\n",
            "      Epoch    GPU_mem   box_loss   cls_loss   dfl_loss  Instances       Size\n"
          ]
        },
        {
          "name": "stderr",
          "output_type": "stream",
          "text": [
            "      17/30      7.73G     0.9128      1.227      1.376         87        640: 100%|██████████| 44/44 [00:28<00:00,  1.54it/s]\n",
            "                 Class     Images  Instances      Box(P          R      mAP50  mAP50-95): 100%|██████████| 7/7 [00:03<00:00,  1.90it/s]\n"
          ]
        },
        {
          "name": "stdout",
          "output_type": "stream",
          "text": [
            "                   all        200        573      0.612      0.557      0.587       0.41\n",
            "\n",
            "      Epoch    GPU_mem   box_loss   cls_loss   dfl_loss  Instances       Size\n"
          ]
        },
        {
          "name": "stderr",
          "output_type": "stream",
          "text": [
            "      18/30      7.76G     0.8911      1.192      1.348         70        640: 100%|██████████| 44/44 [00:28<00:00,  1.53it/s]\n",
            "                 Class     Images  Instances      Box(P          R      mAP50  mAP50-95): 100%|██████████| 7/7 [00:03<00:00,  2.01it/s]"
          ]
        },
        {
          "name": "stdout",
          "output_type": "stream",
          "text": [
            "                   all        200        573       0.69       0.52      0.599      0.404\n"
          ]
        },
        {
          "name": "stderr",
          "output_type": "stream",
          "text": [
            "\n"
          ]
        },
        {
          "name": "stdout",
          "output_type": "stream",
          "text": [
            "\n",
            "      Epoch    GPU_mem   box_loss   cls_loss   dfl_loss  Instances       Size\n"
          ]
        },
        {
          "name": "stderr",
          "output_type": "stream",
          "text": [
            "      19/30      7.76G     0.8734      1.172      1.354         62        640: 100%|██████████| 44/44 [00:28<00:00,  1.53it/s]\n",
            "                 Class     Images  Instances      Box(P          R      mAP50  mAP50-95): 100%|██████████| 7/7 [00:03<00:00,  2.02it/s]"
          ]
        },
        {
          "name": "stdout",
          "output_type": "stream",
          "text": [
            "                   all        200        573      0.677      0.548      0.626      0.436\n"
          ]
        },
        {
          "name": "stderr",
          "output_type": "stream",
          "text": [
            "\n"
          ]
        },
        {
          "name": "stdout",
          "output_type": "stream",
          "text": [
            "\n",
            "      Epoch    GPU_mem   box_loss   cls_loss   dfl_loss  Instances       Size\n"
          ]
        },
        {
          "name": "stderr",
          "output_type": "stream",
          "text": [
            "      20/30      7.76G     0.8424      1.138      1.337         57        640: 100%|██████████| 44/44 [00:28<00:00,  1.53it/s]\n",
            "                 Class     Images  Instances      Box(P          R      mAP50  mAP50-95): 100%|██████████| 7/7 [00:03<00:00,  1.90it/s]"
          ]
        },
        {
          "name": "stdout",
          "output_type": "stream",
          "text": [
            "                   all        200        573      0.678      0.571      0.645      0.437\n"
          ]
        },
        {
          "name": "stderr",
          "output_type": "stream",
          "text": [
            "\n"
          ]
        },
        {
          "name": "stdout",
          "output_type": "stream",
          "text": [
            "Closing dataloader mosaic\n",
            "\u001b[34m\u001b[1malbumentations: \u001b[0mBlur(p=0.01, blur_limit=(3, 7)), MedianBlur(p=0.01, blur_limit=(3, 7)), ToGray(p=0.01, num_output_channels=3, method='weighted_average'), CLAHE(p=0.01, clip_limit=(1.0, 4.0), tile_grid_size=(8, 8))\n",
            "\n",
            "      Epoch    GPU_mem   box_loss   cls_loss   dfl_loss  Instances       Size\n"
          ]
        },
        {
          "name": "stderr",
          "output_type": "stream",
          "text": [
            "      21/30      7.74G     0.9583      1.317      1.414         27        640: 100%|██████████| 44/44 [00:29<00:00,  1.50it/s]\n",
            "                 Class     Images  Instances      Box(P          R      mAP50  mAP50-95): 100%|██████████| 7/7 [00:03<00:00,  2.00it/s]\n"
          ]
        },
        {
          "name": "stdout",
          "output_type": "stream",
          "text": [
            "                   all        200        573      0.653      0.562      0.607      0.425\n",
            "\n",
            "      Epoch    GPU_mem   box_loss   cls_loss   dfl_loss  Instances       Size\n"
          ]
        },
        {
          "name": "stderr",
          "output_type": "stream",
          "text": [
            "      22/30      7.74G     0.9387      1.254      1.385         34        640: 100%|██████████| 44/44 [00:28<00:00,  1.54it/s]\n",
            "                 Class     Images  Instances      Box(P          R      mAP50  mAP50-95): 100%|██████████| 7/7 [00:03<00:00,  2.02it/s]"
          ]
        },
        {
          "name": "stdout",
          "output_type": "stream",
          "text": [
            "                   all        200        573      0.668      0.574       0.63      0.433\n"
          ]
        },
        {
          "name": "stderr",
          "output_type": "stream",
          "text": [
            "\n"
          ]
        },
        {
          "name": "stdout",
          "output_type": "stream",
          "text": [
            "\n",
            "      Epoch    GPU_mem   box_loss   cls_loss   dfl_loss  Instances       Size\n"
          ]
        },
        {
          "name": "stderr",
          "output_type": "stream",
          "text": [
            "      23/30      7.73G     0.8663      1.174      1.334         59        640: 100%|██████████| 44/44 [00:28<00:00,  1.54it/s]\n",
            "                 Class     Images  Instances      Box(P          R      mAP50  mAP50-95): 100%|██████████| 7/7 [00:03<00:00,  1.88it/s]"
          ]
        },
        {
          "name": "stdout",
          "output_type": "stream",
          "text": [
            "                   all        200        573      0.627      0.621      0.657      0.469\n"
          ]
        },
        {
          "name": "stderr",
          "output_type": "stream",
          "text": [
            "\n"
          ]
        },
        {
          "name": "stdout",
          "output_type": "stream",
          "text": [
            "\n",
            "      Epoch    GPU_mem   box_loss   cls_loss   dfl_loss  Instances       Size\n"
          ]
        },
        {
          "name": "stderr",
          "output_type": "stream",
          "text": [
            "      24/30      7.76G     0.8579       1.15      1.349         31        640: 100%|██████████| 44/44 [00:28<00:00,  1.54it/s]\n",
            "                 Class     Images  Instances      Box(P          R      mAP50  mAP50-95): 100%|██████████| 7/7 [00:03<00:00,  2.02it/s]"
          ]
        },
        {
          "name": "stdout",
          "output_type": "stream",
          "text": [
            "                   all        200        573      0.713      0.556      0.658      0.483\n"
          ]
        },
        {
          "name": "stderr",
          "output_type": "stream",
          "text": [
            "\n"
          ]
        },
        {
          "name": "stdout",
          "output_type": "stream",
          "text": [
            "\n",
            "      Epoch    GPU_mem   box_loss   cls_loss   dfl_loss  Instances       Size\n"
          ]
        },
        {
          "name": "stderr",
          "output_type": "stream",
          "text": [
            "      25/30      7.71G     0.8356      1.118      1.325         34        640: 100%|██████████| 44/44 [00:28<00:00,  1.54it/s]\n",
            "                 Class     Images  Instances      Box(P          R      mAP50  mAP50-95): 100%|██████████| 7/7 [00:03<00:00,  2.01it/s]"
          ]
        },
        {
          "name": "stdout",
          "output_type": "stream",
          "text": [
            "                   all        200        573      0.727      0.564      0.681      0.494\n"
          ]
        },
        {
          "name": "stderr",
          "output_type": "stream",
          "text": [
            "\n"
          ]
        },
        {
          "name": "stdout",
          "output_type": "stream",
          "text": [
            "\n",
            "      Epoch    GPU_mem   box_loss   cls_loss   dfl_loss  Instances       Size\n"
          ]
        },
        {
          "name": "stderr",
          "output_type": "stream",
          "text": [
            "      26/30      7.76G     0.8046      1.074      1.289         22        640: 100%|██████████| 44/44 [00:28<00:00,  1.54it/s]\n",
            "                 Class     Images  Instances      Box(P          R      mAP50  mAP50-95): 100%|██████████| 7/7 [00:03<00:00,  1.95it/s]"
          ]
        },
        {
          "name": "stdout",
          "output_type": "stream",
          "text": [
            "                   all        200        573      0.767      0.552      0.672      0.508\n"
          ]
        },
        {
          "name": "stderr",
          "output_type": "stream",
          "text": [
            "\n"
          ]
        },
        {
          "name": "stdout",
          "output_type": "stream",
          "text": [
            "\n",
            "      Epoch    GPU_mem   box_loss   cls_loss   dfl_loss  Instances       Size\n"
          ]
        },
        {
          "name": "stderr",
          "output_type": "stream",
          "text": [
            "      27/30      7.73G     0.7792      1.043      1.282         26        640: 100%|██████████| 44/44 [00:28<00:00,  1.54it/s]\n",
            "                 Class     Images  Instances      Box(P          R      mAP50  mAP50-95): 100%|██████████| 7/7 [00:03<00:00,  1.95it/s]"
          ]
        },
        {
          "name": "stdout",
          "output_type": "stream",
          "text": [
            "                   all        200        573      0.705      0.564       0.66      0.502\n"
          ]
        },
        {
          "name": "stderr",
          "output_type": "stream",
          "text": [
            "\n"
          ]
        },
        {
          "name": "stdout",
          "output_type": "stream",
          "text": [
            "\n",
            "      Epoch    GPU_mem   box_loss   cls_loss   dfl_loss  Instances       Size\n"
          ]
        },
        {
          "name": "stderr",
          "output_type": "stream",
          "text": [
            "      28/30      7.74G     0.7655      1.041      1.261         27        640: 100%|██████████| 44/44 [00:28<00:00,  1.55it/s]\n",
            "                 Class     Images  Instances      Box(P          R      mAP50  mAP50-95): 100%|██████████| 7/7 [00:03<00:00,  2.00it/s]\n"
          ]
        },
        {
          "name": "stdout",
          "output_type": "stream",
          "text": [
            "                   all        200        573       0.67      0.609      0.679      0.508\n",
            "\n",
            "      Epoch    GPU_mem   box_loss   cls_loss   dfl_loss  Instances       Size\n"
          ]
        },
        {
          "name": "stderr",
          "output_type": "stream",
          "text": [
            "      29/30      7.74G     0.7417     0.9965      1.258         30        640: 100%|██████████| 44/44 [00:28<00:00,  1.53it/s]\n",
            "                 Class     Images  Instances      Box(P          R      mAP50  mAP50-95): 100%|██████████| 7/7 [00:03<00:00,  2.01it/s]"
          ]
        },
        {
          "name": "stdout",
          "output_type": "stream",
          "text": [
            "                   all        200        573      0.688      0.606      0.685      0.516\n"
          ]
        },
        {
          "name": "stderr",
          "output_type": "stream",
          "text": [
            "\n"
          ]
        },
        {
          "name": "stdout",
          "output_type": "stream",
          "text": [
            "\n",
            "      Epoch    GPU_mem   box_loss   cls_loss   dfl_loss  Instances       Size\n"
          ]
        },
        {
          "name": "stderr",
          "output_type": "stream",
          "text": [
            "      30/30      7.74G     0.7185     0.9987      1.227         28        640: 100%|██████████| 44/44 [00:28<00:00,  1.53it/s]\n",
            "                 Class     Images  Instances      Box(P          R      mAP50  mAP50-95): 100%|██████████| 7/7 [00:03<00:00,  2.03it/s]"
          ]
        },
        {
          "name": "stdout",
          "output_type": "stream",
          "text": [
            "                   all        200        573      0.674      0.614      0.689      0.522\n"
          ]
        },
        {
          "name": "stderr",
          "output_type": "stream",
          "text": [
            "\n"
          ]
        },
        {
          "name": "stdout",
          "output_type": "stream",
          "text": [
            "\n",
            "30 epochs completed in 0.285 hours.\n",
            "Optimizer stripped from runs/detect/yolov9m_train/weights/last.pt, 40.8MB\n",
            "Optimizer stripped from runs/detect/yolov9m_train/weights/best.pt, 40.8MB\n",
            "\n",
            "Validating runs/detect/yolov9m_train/weights/best.pt...\n",
            "Ultralytics 8.3.116 🚀 Python-3.11.12 torch-2.6.0+cu124 CUDA:0 (Tesla T4, 15095MiB)\n",
            "YOLOv9m summary (fused): 151 layers, 20,013,715 parameters, 0 gradients, 76.5 GFLOPs\n"
          ]
        },
        {
          "name": "stderr",
          "output_type": "stream",
          "text": [
            "                 Class     Images  Instances      Box(P          R      mAP50  mAP50-95): 100%|██████████| 7/7 [00:04<00:00,  1.44it/s]\n"
          ]
        },
        {
          "name": "stdout",
          "output_type": "stream",
          "text": [
            "                   all        200        573      0.674      0.614       0.69      0.523\n",
            "Speed: 0.3ms preprocess, 13.3ms inference, 0.0ms loss, 3.7ms postprocess per image\n",
            "Results saved to \u001b[1mruns/detect/yolov9m_train\u001b[0m\n"
          ]
        },
        {
          "data": {
            "text/plain": [
              "ultralytics.utils.metrics.DetMetrics object with attributes:\n",
              "\n",
              "ap_class_index: array([0])\n",
              "box: ultralytics.utils.metrics.Metric object\n",
              "confusion_matrix: <ultralytics.utils.metrics.ConfusionMatrix object at 0x791906627a10>\n",
              "curves: ['Precision-Recall(B)', 'F1-Confidence(B)', 'Precision-Confidence(B)', 'Recall-Confidence(B)']\n",
              "curves_results: [[array([          0,    0.001001,    0.002002,    0.003003,    0.004004,    0.005005,    0.006006,    0.007007,    0.008008,    0.009009,     0.01001,    0.011011,    0.012012,    0.013013,    0.014014,    0.015015,    0.016016,    0.017017,    0.018018,    0.019019,     0.02002,    0.021021,    0.022022,    0.023023,\n",
              "          0.024024,    0.025025,    0.026026,    0.027027,    0.028028,    0.029029,     0.03003,    0.031031,    0.032032,    0.033033,    0.034034,    0.035035,    0.036036,    0.037037,    0.038038,    0.039039,     0.04004,    0.041041,    0.042042,    0.043043,    0.044044,    0.045045,    0.046046,    0.047047,\n",
              "          0.048048,    0.049049,     0.05005,    0.051051,    0.052052,    0.053053,    0.054054,    0.055055,    0.056056,    0.057057,    0.058058,    0.059059,     0.06006,    0.061061,    0.062062,    0.063063,    0.064064,    0.065065,    0.066066,    0.067067,    0.068068,    0.069069,     0.07007,    0.071071,\n",
              "          0.072072,    0.073073,    0.074074,    0.075075,    0.076076,    0.077077,    0.078078,    0.079079,     0.08008,    0.081081,    0.082082,    0.083083,    0.084084,    0.085085,    0.086086,    0.087087,    0.088088,    0.089089,     0.09009,    0.091091,    0.092092,    0.093093,    0.094094,    0.095095,\n",
              "          0.096096,    0.097097,    0.098098,    0.099099,      0.1001,      0.1011,      0.1021,      0.1031,      0.1041,     0.10511,     0.10611,     0.10711,     0.10811,     0.10911,     0.11011,     0.11111,     0.11211,     0.11311,     0.11411,     0.11512,     0.11612,     0.11712,     0.11812,     0.11912,\n",
              "           0.12012,     0.12112,     0.12212,     0.12312,     0.12412,     0.12513,     0.12613,     0.12713,     0.12813,     0.12913,     0.13013,     0.13113,     0.13213,     0.13313,     0.13413,     0.13514,     0.13614,     0.13714,     0.13814,     0.13914,     0.14014,     0.14114,     0.14214,     0.14314,\n",
              "           0.14414,     0.14515,     0.14615,     0.14715,     0.14815,     0.14915,     0.15015,     0.15115,     0.15215,     0.15315,     0.15415,     0.15516,     0.15616,     0.15716,     0.15816,     0.15916,     0.16016,     0.16116,     0.16216,     0.16316,     0.16416,     0.16517,     0.16617,     0.16717,\n",
              "           0.16817,     0.16917,     0.17017,     0.17117,     0.17217,     0.17317,     0.17417,     0.17518,     0.17618,     0.17718,     0.17818,     0.17918,     0.18018,     0.18118,     0.18218,     0.18318,     0.18418,     0.18519,     0.18619,     0.18719,     0.18819,     0.18919,     0.19019,     0.19119,\n",
              "           0.19219,     0.19319,     0.19419,      0.1952,      0.1962,      0.1972,      0.1982,      0.1992,      0.2002,      0.2012,      0.2022,      0.2032,      0.2042,     0.20521,     0.20621,     0.20721,     0.20821,     0.20921,     0.21021,     0.21121,     0.21221,     0.21321,     0.21421,     0.21522,\n",
              "           0.21622,     0.21722,     0.21822,     0.21922,     0.22022,     0.22122,     0.22222,     0.22322,     0.22422,     0.22523,     0.22623,     0.22723,     0.22823,     0.22923,     0.23023,     0.23123,     0.23223,     0.23323,     0.23423,     0.23524,     0.23624,     0.23724,     0.23824,     0.23924,\n",
              "           0.24024,     0.24124,     0.24224,     0.24324,     0.24424,     0.24525,     0.24625,     0.24725,     0.24825,     0.24925,     0.25025,     0.25125,     0.25225,     0.25325,     0.25425,     0.25526,     0.25626,     0.25726,     0.25826,     0.25926,     0.26026,     0.26126,     0.26226,     0.26326,\n",
              "           0.26426,     0.26527,     0.26627,     0.26727,     0.26827,     0.26927,     0.27027,     0.27127,     0.27227,     0.27327,     0.27427,     0.27528,     0.27628,     0.27728,     0.27828,     0.27928,     0.28028,     0.28128,     0.28228,     0.28328,     0.28428,     0.28529,     0.28629,     0.28729,\n",
              "           0.28829,     0.28929,     0.29029,     0.29129,     0.29229,     0.29329,     0.29429,      0.2953,      0.2963,      0.2973,      0.2983,      0.2993,      0.3003,      0.3013,      0.3023,      0.3033,      0.3043,     0.30531,     0.30631,     0.30731,     0.30831,     0.30931,     0.31031,     0.31131,\n",
              "           0.31231,     0.31331,     0.31431,     0.31532,     0.31632,     0.31732,     0.31832,     0.31932,     0.32032,     0.32132,     0.32232,     0.32332,     0.32432,     0.32533,     0.32633,     0.32733,     0.32833,     0.32933,     0.33033,     0.33133,     0.33233,     0.33333,     0.33433,     0.33534,\n",
              "           0.33634,     0.33734,     0.33834,     0.33934,     0.34034,     0.34134,     0.34234,     0.34334,     0.34434,     0.34535,     0.34635,     0.34735,     0.34835,     0.34935,     0.35035,     0.35135,     0.35235,     0.35335,     0.35435,     0.35536,     0.35636,     0.35736,     0.35836,     0.35936,\n",
              "           0.36036,     0.36136,     0.36236,     0.36336,     0.36436,     0.36537,     0.36637,     0.36737,     0.36837,     0.36937,     0.37037,     0.37137,     0.37237,     0.37337,     0.37437,     0.37538,     0.37638,     0.37738,     0.37838,     0.37938,     0.38038,     0.38138,     0.38238,     0.38338,\n",
              "           0.38438,     0.38539,     0.38639,     0.38739,     0.38839,     0.38939,     0.39039,     0.39139,     0.39239,     0.39339,     0.39439,      0.3954,      0.3964,      0.3974,      0.3984,      0.3994,      0.4004,      0.4014,      0.4024,      0.4034,      0.4044,     0.40541,     0.40641,     0.40741,\n",
              "           0.40841,     0.40941,     0.41041,     0.41141,     0.41241,     0.41341,     0.41441,     0.41542,     0.41642,     0.41742,     0.41842,     0.41942,     0.42042,     0.42142,     0.42242,     0.42342,     0.42442,     0.42543,     0.42643,     0.42743,     0.42843,     0.42943,     0.43043,     0.43143,\n",
              "           0.43243,     0.43343,     0.43443,     0.43544,     0.43644,     0.43744,     0.43844,     0.43944,     0.44044,     0.44144,     0.44244,     0.44344,     0.44444,     0.44545,     0.44645,     0.44745,     0.44845,     0.44945,     0.45045,     0.45145,     0.45245,     0.45345,     0.45445,     0.45546,\n",
              "           0.45646,     0.45746,     0.45846,     0.45946,     0.46046,     0.46146,     0.46246,     0.46346,     0.46446,     0.46547,     0.46647,     0.46747,     0.46847,     0.46947,     0.47047,     0.47147,     0.47247,     0.47347,     0.47447,     0.47548,     0.47648,     0.47748,     0.47848,     0.47948,\n",
              "           0.48048,     0.48148,     0.48248,     0.48348,     0.48448,     0.48549,     0.48649,     0.48749,     0.48849,     0.48949,     0.49049,     0.49149,     0.49249,     0.49349,     0.49449,      0.4955,      0.4965,      0.4975,      0.4985,      0.4995,      0.5005,      0.5015,      0.5025,      0.5035,\n",
              "            0.5045,     0.50551,     0.50651,     0.50751,     0.50851,     0.50951,     0.51051,     0.51151,     0.51251,     0.51351,     0.51451,     0.51552,     0.51652,     0.51752,     0.51852,     0.51952,     0.52052,     0.52152,     0.52252,     0.52352,     0.52452,     0.52553,     0.52653,     0.52753,\n",
              "           0.52853,     0.52953,     0.53053,     0.53153,     0.53253,     0.53353,     0.53453,     0.53554,     0.53654,     0.53754,     0.53854,     0.53954,     0.54054,     0.54154,     0.54254,     0.54354,     0.54454,     0.54555,     0.54655,     0.54755,     0.54855,     0.54955,     0.55055,     0.55155,\n",
              "           0.55255,     0.55355,     0.55455,     0.55556,     0.55656,     0.55756,     0.55856,     0.55956,     0.56056,     0.56156,     0.56256,     0.56356,     0.56456,     0.56557,     0.56657,     0.56757,     0.56857,     0.56957,     0.57057,     0.57157,     0.57257,     0.57357,     0.57457,     0.57558,\n",
              "           0.57658,     0.57758,     0.57858,     0.57958,     0.58058,     0.58158,     0.58258,     0.58358,     0.58458,     0.58559,     0.58659,     0.58759,     0.58859,     0.58959,     0.59059,     0.59159,     0.59259,     0.59359,     0.59459,      0.5956,      0.5966,      0.5976,      0.5986,      0.5996,\n",
              "            0.6006,      0.6016,      0.6026,      0.6036,      0.6046,     0.60561,     0.60661,     0.60761,     0.60861,     0.60961,     0.61061,     0.61161,     0.61261,     0.61361,     0.61461,     0.61562,     0.61662,     0.61762,     0.61862,     0.61962,     0.62062,     0.62162,     0.62262,     0.62362,\n",
              "           0.62462,     0.62563,     0.62663,     0.62763,     0.62863,     0.62963,     0.63063,     0.63163,     0.63263,     0.63363,     0.63463,     0.63564,     0.63664,     0.63764,     0.63864,     0.63964,     0.64064,     0.64164,     0.64264,     0.64364,     0.64464,     0.64565,     0.64665,     0.64765,\n",
              "           0.64865,     0.64965,     0.65065,     0.65165,     0.65265,     0.65365,     0.65465,     0.65566,     0.65666,     0.65766,     0.65866,     0.65966,     0.66066,     0.66166,     0.66266,     0.66366,     0.66466,     0.66567,     0.66667,     0.66767,     0.66867,     0.66967,     0.67067,     0.67167,\n",
              "           0.67267,     0.67367,     0.67467,     0.67568,     0.67668,     0.67768,     0.67868,     0.67968,     0.68068,     0.68168,     0.68268,     0.68368,     0.68468,     0.68569,     0.68669,     0.68769,     0.68869,     0.68969,     0.69069,     0.69169,     0.69269,     0.69369,     0.69469,      0.6957,\n",
              "            0.6967,      0.6977,      0.6987,      0.6997,      0.7007,      0.7017,      0.7027,      0.7037,      0.7047,     0.70571,     0.70671,     0.70771,     0.70871,     0.70971,     0.71071,     0.71171,     0.71271,     0.71371,     0.71471,     0.71572,     0.71672,     0.71772,     0.71872,     0.71972,\n",
              "           0.72072,     0.72172,     0.72272,     0.72372,     0.72472,     0.72573,     0.72673,     0.72773,     0.72873,     0.72973,     0.73073,     0.73173,     0.73273,     0.73373,     0.73473,     0.73574,     0.73674,     0.73774,     0.73874,     0.73974,     0.74074,     0.74174,     0.74274,     0.74374,\n",
              "           0.74474,     0.74575,     0.74675,     0.74775,     0.74875,     0.74975,     0.75075,     0.75175,     0.75275,     0.75375,     0.75475,     0.75576,     0.75676,     0.75776,     0.75876,     0.75976,     0.76076,     0.76176,     0.76276,     0.76376,     0.76476,     0.76577,     0.76677,     0.76777,\n",
              "           0.76877,     0.76977,     0.77077,     0.77177,     0.77277,     0.77377,     0.77477,     0.77578,     0.77678,     0.77778,     0.77878,     0.77978,     0.78078,     0.78178,     0.78278,     0.78378,     0.78478,     0.78579,     0.78679,     0.78779,     0.78879,     0.78979,     0.79079,     0.79179,\n",
              "           0.79279,     0.79379,     0.79479,      0.7958,      0.7968,      0.7978,      0.7988,      0.7998,      0.8008,      0.8018,      0.8028,      0.8038,      0.8048,     0.80581,     0.80681,     0.80781,     0.80881,     0.80981,     0.81081,     0.81181,     0.81281,     0.81381,     0.81481,     0.81582,\n",
              "           0.81682,     0.81782,     0.81882,     0.81982,     0.82082,     0.82182,     0.82282,     0.82382,     0.82482,     0.82583,     0.82683,     0.82783,     0.82883,     0.82983,     0.83083,     0.83183,     0.83283,     0.83383,     0.83483,     0.83584,     0.83684,     0.83784,     0.83884,     0.83984,\n",
              "           0.84084,     0.84184,     0.84284,     0.84384,     0.84484,     0.84585,     0.84685,     0.84785,     0.84885,     0.84985,     0.85085,     0.85185,     0.85285,     0.85385,     0.85485,     0.85586,     0.85686,     0.85786,     0.85886,     0.85986,     0.86086,     0.86186,     0.86286,     0.86386,\n",
              "           0.86486,     0.86587,     0.86687,     0.86787,     0.86887,     0.86987,     0.87087,     0.87187,     0.87287,     0.87387,     0.87487,     0.87588,     0.87688,     0.87788,     0.87888,     0.87988,     0.88088,     0.88188,     0.88288,     0.88388,     0.88488,     0.88589,     0.88689,     0.88789,\n",
              "           0.88889,     0.88989,     0.89089,     0.89189,     0.89289,     0.89389,     0.89489,      0.8959,      0.8969,      0.8979,      0.8989,      0.8999,      0.9009,      0.9019,      0.9029,      0.9039,      0.9049,     0.90591,     0.90691,     0.90791,     0.90891,     0.90991,     0.91091,     0.91191,\n",
              "           0.91291,     0.91391,     0.91491,     0.91592,     0.91692,     0.91792,     0.91892,     0.91992,     0.92092,     0.92192,     0.92292,     0.92392,     0.92492,     0.92593,     0.92693,     0.92793,     0.92893,     0.92993,     0.93093,     0.93193,     0.93293,     0.93393,     0.93493,     0.93594,\n",
              "           0.93694,     0.93794,     0.93894,     0.93994,     0.94094,     0.94194,     0.94294,     0.94394,     0.94494,     0.94595,     0.94695,     0.94795,     0.94895,     0.94995,     0.95095,     0.95195,     0.95295,     0.95395,     0.95495,     0.95596,     0.95696,     0.95796,     0.95896,     0.95996,\n",
              "           0.96096,     0.96196,     0.96296,     0.96396,     0.96496,     0.96597,     0.96697,     0.96797,     0.96897,     0.96997,     0.97097,     0.97197,     0.97297,     0.97397,     0.97497,     0.97598,     0.97698,     0.97798,     0.97898,     0.97998,     0.98098,     0.98198,     0.98298,     0.98398,\n",
              "           0.98498,     0.98599,     0.98699,     0.98799,     0.98899,     0.98999,     0.99099,     0.99199,     0.99299,     0.99399,     0.99499,       0.996,       0.997,       0.998,       0.999,           1]), array([[          1,           1,           1,           1,           1,           1,           1,           1,           1,           1,           1,           1,           1,           1,           1,           1,           1,           1,           1,           1,           1,           1,           1,\n",
              "                  1,           1,           1,           1,           1,           1,           1,           1,           1,           1,           1,           1,           1,           1,           1,           1,           1,           1,           1,           1,           1,           1,           1,\n",
              "                  1,           1,           1,           1,           1,           1,           1,           1,           1,           1,           1,           1,           1,           1,           1,           1,     0.98649,     0.98649,     0.98649,     0.98649,     0.98649,     0.98649,     0.98649,\n",
              "            0.98649,     0.98649,     0.98649,     0.98649,     0.98649,     0.98649,     0.98649,     0.98649,     0.98649,     0.98649,     0.98649,     0.98649,     0.98649,     0.98649,     0.98649,     0.98649,     0.98649,     0.98649,     0.98649,     0.98649,     0.98649,     0.98649,     0.98649,\n",
              "            0.98649,     0.98649,     0.98649,     0.98649,     0.98649,     0.98649,     0.98649,     0.98649,     0.98649,     0.98649,     0.98649,     0.98649,     0.98649,     0.98649,     0.98649,     0.98649,     0.98649,     0.98649,     0.98649,     0.98649,     0.98649,     0.98649,     0.98649,\n",
              "            0.98649,     0.98649,     0.98649,     0.98649,     0.98649,     0.98649,     0.98649,     0.98649,     0.98649,     0.98649,     0.98649,     0.98649,     0.98649,     0.96104,     0.96104,        0.95,        0.95,        0.95,     0.93976,     0.93976,     0.93976,     0.93333,     0.93333,\n",
              "            0.93333,     0.93333,     0.93333,     0.93333,     0.93333,     0.93333,     0.93333,     0.93333,     0.93333,     0.92784,     0.92784,     0.92784,     0.92784,     0.92784,     0.92784,     0.92784,     0.92784,     0.92784,     0.92784,     0.92308,     0.92308,     0.92308,     0.92308,\n",
              "            0.92308,     0.92308,     0.92308,     0.92308,     0.92308,     0.92308,     0.92308,     0.91589,     0.91589,     0.91589,      0.9127,      0.9127,      0.9127,      0.9127,      0.9127,      0.9127,      0.9127,      0.9127,      0.9127,      0.9127,      0.9127,      0.9127,      0.9127,\n",
              "             0.9127,      0.9127,      0.9127,      0.9127,      0.9127,      0.9127,      0.9127,      0.9127,      0.9127,      0.9127,      0.9127,      0.9127,      0.9127,      0.9127,      0.9127,      0.9127,      0.9127,     0.90541,     0.90541,     0.90541,     0.90541,     0.90541,     0.90541,\n",
              "            0.90541,     0.90541,     0.90541,     0.90541,     0.90541,     0.90541,     0.90541,     0.90541,     0.90541,     0.90541,     0.90541,     0.90541,     0.90541,     0.90541,     0.90541,     0.90541,     0.90541,     0.90541,     0.90541,     0.90541,     0.90541,     0.90541,     0.90541,\n",
              "            0.90541,     0.90541,     0.90541,     0.90541,     0.89944,     0.89944,     0.89944,     0.89944,     0.89944,     0.89944,     0.89944,     0.89944,     0.89944,     0.89944,     0.89944,     0.89944,     0.89944,     0.89944,     0.89944,     0.89944,     0.89944,     0.89944,     0.89944,\n",
              "            0.89944,     0.89944,     0.89944,     0.89944,     0.89944,     0.89944,     0.89944,     0.89944,     0.89944,     0.89944,     0.89944,     0.89944,     0.89944,     0.89944,     0.89944,     0.89944,     0.89944,     0.89944,     0.89944,     0.89944,     0.89944,     0.89944,     0.89944,\n",
              "            0.89944,     0.89944,     0.89944,     0.89944,     0.89944,     0.89552,     0.89552,     0.89552,     0.89552,     0.89552,     0.89552,     0.89552,     0.89552,     0.89552,     0.89552,     0.89552,     0.89552,     0.89552,     0.89552,     0.89552,     0.89552,     0.89552,     0.89552,\n",
              "            0.89552,     0.89552,     0.89552,     0.89552,     0.89552,     0.89552,     0.89552,     0.89552,     0.89552,     0.89552,     0.89552,     0.89552,     0.89552,     0.89552,     0.89552,     0.89401,     0.89401,     0.89401,     0.89401,     0.89401,     0.89401,     0.89401,     0.89401,\n",
              "            0.89401,     0.89401,     0.89401,     0.89401,     0.89401,     0.89401,     0.89401,     0.89401,     0.89401,     0.89401,     0.89401,     0.89401,     0.89401,     0.89401,     0.89401,     0.89401,     0.89401,     0.89113,     0.89113,     0.89113,     0.89113,     0.89113,     0.89113,\n",
              "            0.89113,     0.89113,     0.89113,     0.89113,     0.89113,     0.89113,     0.89113,     0.89113,     0.89113,     0.89113,     0.89113,     0.89113,     0.89113,     0.89113,     0.89113,     0.89113,     0.89113,     0.89113,     0.89113,     0.89113,     0.89113,     0.89113,     0.89113,\n",
              "            0.89113,     0.89113,     0.89113,     0.89113,     0.89113,     0.89113,     0.89113,     0.89113,     0.89113,     0.89113,     0.89113,     0.89113,     0.89113,     0.89113,     0.89113,     0.89113,     0.89113,     0.89113,     0.88845,     0.88845,     0.88845,     0.88417,     0.88417,\n",
              "            0.88417,     0.88417,     0.88417,     0.88417,     0.88417,     0.88417,     0.88417,     0.88417,     0.88417,      0.8806,      0.8806,      0.8806,      0.8806,      0.8806,      0.8806,      0.8806,      0.8806,      0.8806,      0.8806,      0.8806,      0.8806,     0.87868,     0.87868,\n",
              "            0.87868,     0.87868,     0.87868,     0.87368,     0.87368,     0.87368,     0.87368,     0.87368,     0.87368,     0.87368,     0.87368,     0.87368,     0.87368,     0.87368,     0.87368,     0.87368,     0.87368,     0.87368,     0.87368,     0.87368,     0.87368,     0.87241,     0.87241,\n",
              "            0.87241,     0.87241,     0.87241,     0.87241,     0.87241,     0.87162,     0.87162,     0.87162,     0.87162,     0.87162,     0.87162,     0.87162,     0.87162,     0.86913,     0.86913,     0.86379,     0.86379,     0.86319,     0.86319,     0.86319,     0.86319,     0.86319,     0.86319,\n",
              "            0.86319,     0.86319,     0.86319,     0.85852,     0.85852,     0.85852,      0.8558,      0.8558,      0.8558,      0.8558,      0.8558,      0.8558,      0.8558,      0.8558,      0.8558,      0.8558,     0.85358,     0.85358,     0.84923,     0.84923,     0.84923,     0.84923,     0.84848,\n",
              "            0.84848,     0.84848,     0.84848,     0.84848,     0.84848,     0.84848,     0.84431,     0.84431,     0.84431,     0.84024,     0.84024,     0.84024,     0.84024,     0.83382,     0.83382,     0.83382,     0.83188,     0.83188,     0.82997,     0.82997,     0.82906,     0.82906,     0.82906,\n",
              "            0.82906,     0.82906,      0.8272,      0.8272,     0.81616,     0.81215,     0.81215,     0.81044,     0.81044,     0.80654,     0.80654,     0.79625,     0.79255,     0.79255,     0.78068,     0.78068,     0.77922,     0.77922,     0.77892,     0.77892,     0.77892,     0.77892,     0.77892,\n",
              "            0.76768,     0.76768,     0.76441,     0.76309,     0.76309,     0.75245,     0.75245,     0.74939,      0.7488,      0.7488,      0.7488,      0.7488,      0.7488,      0.7488,      0.7488,      0.7488,      0.7488,     0.74645,     0.74645,     0.74645,     0.74645,     0.74528,     0.74413,\n",
              "            0.74413,     0.73843,     0.73843,     0.73843,     0.73843,     0.73804,     0.73804,     0.73804,     0.73804,     0.73804,     0.73804,     0.73804,     0.73804,     0.73529,     0.73529,     0.73258,     0.73258,     0.73214,     0.73214,     0.73214,     0.72949,     0.72949,     0.71584,\n",
              "            0.71584,     0.71183,     0.71183,     0.71036,     0.71036,     0.71036,     0.71036,     0.71036,     0.71036,     0.71036,     0.71036,     0.70798,     0.70798,     0.70124,     0.70124,     0.69672,     0.69672,     0.69672,     0.69168,     0.69168,     0.69091,     0.69091,     0.68876,\n",
              "            0.68876,       0.688,     0.68317,     0.68317,     0.68245,     0.68245,     0.67773,     0.67767,     0.67767,     0.67767,     0.67767,     0.67437,     0.67437,     0.67433,     0.67433,     0.67433,     0.67362,     0.67362,     0.67362,     0.67362,     0.67362,     0.67297,     0.67297,\n",
              "            0.67293,     0.67293,     0.67293,     0.67293,     0.67037,     0.67037,     0.67037,     0.67037,     0.67037,     0.67037,     0.67037,     0.66606,     0.66302,     0.66302,     0.66243,     0.66243,     0.64386,     0.64386,     0.64386,        0.64,        0.64,     0.63903,     0.63903,\n",
              "            0.63903,     0.63903,     0.63419,     0.63373,     0.63373,      0.6322,      0.6322,     0.62437,     0.62437,     0.61881,     0.60645,     0.60645,     0.60514,     0.60514,     0.60383,     0.60383,      0.6035,     0.60222,     0.60222,      0.6019,      0.6019,     0.60063,     0.59969,\n",
              "            0.59969,     0.59969,     0.59969,     0.59969,     0.59969,     0.59752,     0.59722,     0.59722,     0.59663,     0.59663,     0.59663,     0.59663,     0.59063,     0.59063,     0.59063,     0.58692,     0.58692,     0.58692,     0.58692,     0.58692,     0.58692,     0.58692,     0.58493,\n",
              "            0.58493,     0.58297,     0.58297,     0.58272,     0.58248,     0.58248,      0.5772,      0.5772,     0.56941,     0.56941,     0.56941,     0.56761,     0.56761,      0.5625,      0.5625,      0.5625,      0.5625,     0.56155,     0.55677,     0.55677,     0.54886,     0.54886,     0.54886,\n",
              "            0.54886,     0.54886,     0.54727,     0.54727,      0.5463,      0.5463,      0.5463,      0.5463,     0.54391,     0.54391,     0.54391,     0.54308,     0.54308,     0.54016,     0.54016,     0.54005,     0.53359,     0.53359,     0.53359,     0.53359,     0.53359,     0.53082,     0.53082,\n",
              "            0.52809,     0.52809,      0.5254,      0.5254,     0.51829,     0.51632,     0.51632,     0.51632,     0.51632,     0.51196,     0.51196,     0.51071,     0.50469,     0.50469,     0.50116,     0.50116,     0.49598,     0.49598,     0.49486,     0.49432,     0.49432,     0.49432,     0.49432,\n",
              "            0.49267,     0.49267,     0.49267,     0.49213,     0.49213,      0.4905,      0.4905,     0.48998,     0.48998,     0.48894,     0.48894,     0.48894,     0.48789,     0.48789,     0.48634,     0.48634,     0.48634,     0.48478,     0.48478,     0.48432,     0.48432,     0.48432,     0.48432,\n",
              "            0.48384,     0.47923,     0.47923,     0.47674,     0.47674,     0.47182,     0.47182,     0.46557,     0.46232,     0.46232,     0.45015,     0.45015,     0.45015,     0.45015,      0.4476,      0.4438,      0.4438,     0.44348,     0.44348,     0.44104,     0.43905,     0.43905,     0.43833,\n",
              "            0.43833,     0.43312,     0.43312,     0.42647,     0.42287,     0.42287,     0.42287,     0.42287,     0.40925,     0.40925,     0.40925,     0.40925,     0.40925,     0.40552,     0.40552,     0.39983,     0.39983,     0.39399,     0.38362,     0.38362,      0.3789,      0.3789,     0.37226,\n",
              "            0.37226,     0.35233,     0.34945,     0.34945,     0.34916,     0.34916,     0.34786,     0.34786,     0.33754,     0.33754,     0.33754,     0.33264,     0.33264,     0.33105,     0.33105,     0.32615,     0.32226,     0.32226,     0.32164,     0.32164,     0.31238,     0.31238,     0.31162,\n",
              "            0.30837,     0.30837,     0.30837,     0.30837,     0.30526,     0.30526,     0.30526,     0.30526,     0.30526,     0.30012,     0.30012,     0.29801,     0.29801,      0.2963,     0.29098,     0.29098,     0.29072,     0.29072,     0.28978,     0.28852,     0.28852,     0.27407,     0.27407,\n",
              "            0.27357,     0.27357,     0.27219,     0.26923,     0.26923,     0.24562,     0.24562,       0.232,       0.232,     0.21276,     0.21158,     0.21158,     0.21147,     0.21147,     0.20867,     0.20867,      0.2084,     0.20521,     0.20521,     0.20479,     0.20479,      0.2026,      0.2026,\n",
              "             0.2018,     0.19612,     0.19612,     0.19162,     0.19162,      0.1896,      0.1896,     0.18914,     0.18466,     0.18466,     0.18449,     0.18449,     0.18329,     0.18329,     0.17753,     0.17455,     0.17455,      0.1714,      0.1714,     0.17117,     0.17117,     0.17066,     0.16714,\n",
              "            0.16714,     0.16646,     0.16646,     0.16368,     0.16368,     0.15846,     0.15411,     0.15411,     0.15078,     0.15078,     0.14229,     0.14229,      0.1381,     0.12436,     0.12436,     0.10906,     0.10906,     0.10049,     0.10048,     0.10048,    0.096913,    0.096913,    0.089127,\n",
              "           0.089127,    0.088969,    0.086991,    0.086991,    0.082889,    0.082889,    0.080562,    0.080562,    0.072887,    0.071057,    0.071057,    0.070068,    0.070068,    0.066248,    0.066248,    0.064897,    0.064377,    0.064377,    0.058524,    0.058524,    0.058432,    0.058432,    0.054977,\n",
              "           0.054556,    0.054556,    0.053104,    0.053104,    0.051059,    0.051059,    0.045652,    0.045599,    0.045599,    0.038401,    0.038401,     0.03489,     0.03489,    0.033558,     0.03172,    0.030051,    0.028381,    0.026712,    0.025042,    0.023373,    0.021703,    0.020034,    0.018364,\n",
              "           0.016695,    0.015025,    0.013356,    0.011686,    0.010017,   0.0083474,   0.0066779,   0.0050084,    0.003339,   0.0016695,           0]]), 'Recall', 'Precision'], [array([          0,    0.001001,    0.002002,    0.003003,    0.004004,    0.005005,    0.006006,    0.007007,    0.008008,    0.009009,     0.01001,    0.011011,    0.012012,    0.013013,    0.014014,    0.015015,    0.016016,    0.017017,    0.018018,    0.019019,     0.02002,    0.021021,    0.022022,    0.023023,\n",
              "          0.024024,    0.025025,    0.026026,    0.027027,    0.028028,    0.029029,     0.03003,    0.031031,    0.032032,    0.033033,    0.034034,    0.035035,    0.036036,    0.037037,    0.038038,    0.039039,     0.04004,    0.041041,    0.042042,    0.043043,    0.044044,    0.045045,    0.046046,    0.047047,\n",
              "          0.048048,    0.049049,     0.05005,    0.051051,    0.052052,    0.053053,    0.054054,    0.055055,    0.056056,    0.057057,    0.058058,    0.059059,     0.06006,    0.061061,    0.062062,    0.063063,    0.064064,    0.065065,    0.066066,    0.067067,    0.068068,    0.069069,     0.07007,    0.071071,\n",
              "          0.072072,    0.073073,    0.074074,    0.075075,    0.076076,    0.077077,    0.078078,    0.079079,     0.08008,    0.081081,    0.082082,    0.083083,    0.084084,    0.085085,    0.086086,    0.087087,    0.088088,    0.089089,     0.09009,    0.091091,    0.092092,    0.093093,    0.094094,    0.095095,\n",
              "          0.096096,    0.097097,    0.098098,    0.099099,      0.1001,      0.1011,      0.1021,      0.1031,      0.1041,     0.10511,     0.10611,     0.10711,     0.10811,     0.10911,     0.11011,     0.11111,     0.11211,     0.11311,     0.11411,     0.11512,     0.11612,     0.11712,     0.11812,     0.11912,\n",
              "           0.12012,     0.12112,     0.12212,     0.12312,     0.12412,     0.12513,     0.12613,     0.12713,     0.12813,     0.12913,     0.13013,     0.13113,     0.13213,     0.13313,     0.13413,     0.13514,     0.13614,     0.13714,     0.13814,     0.13914,     0.14014,     0.14114,     0.14214,     0.14314,\n",
              "           0.14414,     0.14515,     0.14615,     0.14715,     0.14815,     0.14915,     0.15015,     0.15115,     0.15215,     0.15315,     0.15415,     0.15516,     0.15616,     0.15716,     0.15816,     0.15916,     0.16016,     0.16116,     0.16216,     0.16316,     0.16416,     0.16517,     0.16617,     0.16717,\n",
              "           0.16817,     0.16917,     0.17017,     0.17117,     0.17217,     0.17317,     0.17417,     0.17518,     0.17618,     0.17718,     0.17818,     0.17918,     0.18018,     0.18118,     0.18218,     0.18318,     0.18418,     0.18519,     0.18619,     0.18719,     0.18819,     0.18919,     0.19019,     0.19119,\n",
              "           0.19219,     0.19319,     0.19419,      0.1952,      0.1962,      0.1972,      0.1982,      0.1992,      0.2002,      0.2012,      0.2022,      0.2032,      0.2042,     0.20521,     0.20621,     0.20721,     0.20821,     0.20921,     0.21021,     0.21121,     0.21221,     0.21321,     0.21421,     0.21522,\n",
              "           0.21622,     0.21722,     0.21822,     0.21922,     0.22022,     0.22122,     0.22222,     0.22322,     0.22422,     0.22523,     0.22623,     0.22723,     0.22823,     0.22923,     0.23023,     0.23123,     0.23223,     0.23323,     0.23423,     0.23524,     0.23624,     0.23724,     0.23824,     0.23924,\n",
              "           0.24024,     0.24124,     0.24224,     0.24324,     0.24424,     0.24525,     0.24625,     0.24725,     0.24825,     0.24925,     0.25025,     0.25125,     0.25225,     0.25325,     0.25425,     0.25526,     0.25626,     0.25726,     0.25826,     0.25926,     0.26026,     0.26126,     0.26226,     0.26326,\n",
              "           0.26426,     0.26527,     0.26627,     0.26727,     0.26827,     0.26927,     0.27027,     0.27127,     0.27227,     0.27327,     0.27427,     0.27528,     0.27628,     0.27728,     0.27828,     0.27928,     0.28028,     0.28128,     0.28228,     0.28328,     0.28428,     0.28529,     0.28629,     0.28729,\n",
              "           0.28829,     0.28929,     0.29029,     0.29129,     0.29229,     0.29329,     0.29429,      0.2953,      0.2963,      0.2973,      0.2983,      0.2993,      0.3003,      0.3013,      0.3023,      0.3033,      0.3043,     0.30531,     0.30631,     0.30731,     0.30831,     0.30931,     0.31031,     0.31131,\n",
              "           0.31231,     0.31331,     0.31431,     0.31532,     0.31632,     0.31732,     0.31832,     0.31932,     0.32032,     0.32132,     0.32232,     0.32332,     0.32432,     0.32533,     0.32633,     0.32733,     0.32833,     0.32933,     0.33033,     0.33133,     0.33233,     0.33333,     0.33433,     0.33534,\n",
              "           0.33634,     0.33734,     0.33834,     0.33934,     0.34034,     0.34134,     0.34234,     0.34334,     0.34434,     0.34535,     0.34635,     0.34735,     0.34835,     0.34935,     0.35035,     0.35135,     0.35235,     0.35335,     0.35435,     0.35536,     0.35636,     0.35736,     0.35836,     0.35936,\n",
              "           0.36036,     0.36136,     0.36236,     0.36336,     0.36436,     0.36537,     0.36637,     0.36737,     0.36837,     0.36937,     0.37037,     0.37137,     0.37237,     0.37337,     0.37437,     0.37538,     0.37638,     0.37738,     0.37838,     0.37938,     0.38038,     0.38138,     0.38238,     0.38338,\n",
              "           0.38438,     0.38539,     0.38639,     0.38739,     0.38839,     0.38939,     0.39039,     0.39139,     0.39239,     0.39339,     0.39439,      0.3954,      0.3964,      0.3974,      0.3984,      0.3994,      0.4004,      0.4014,      0.4024,      0.4034,      0.4044,     0.40541,     0.40641,     0.40741,\n",
              "           0.40841,     0.40941,     0.41041,     0.41141,     0.41241,     0.41341,     0.41441,     0.41542,     0.41642,     0.41742,     0.41842,     0.41942,     0.42042,     0.42142,     0.42242,     0.42342,     0.42442,     0.42543,     0.42643,     0.42743,     0.42843,     0.42943,     0.43043,     0.43143,\n",
              "           0.43243,     0.43343,     0.43443,     0.43544,     0.43644,     0.43744,     0.43844,     0.43944,     0.44044,     0.44144,     0.44244,     0.44344,     0.44444,     0.44545,     0.44645,     0.44745,     0.44845,     0.44945,     0.45045,     0.45145,     0.45245,     0.45345,     0.45445,     0.45546,\n",
              "           0.45646,     0.45746,     0.45846,     0.45946,     0.46046,     0.46146,     0.46246,     0.46346,     0.46446,     0.46547,     0.46647,     0.46747,     0.46847,     0.46947,     0.47047,     0.47147,     0.47247,     0.47347,     0.47447,     0.47548,     0.47648,     0.47748,     0.47848,     0.47948,\n",
              "           0.48048,     0.48148,     0.48248,     0.48348,     0.48448,     0.48549,     0.48649,     0.48749,     0.48849,     0.48949,     0.49049,     0.49149,     0.49249,     0.49349,     0.49449,      0.4955,      0.4965,      0.4975,      0.4985,      0.4995,      0.5005,      0.5015,      0.5025,      0.5035,\n",
              "            0.5045,     0.50551,     0.50651,     0.50751,     0.50851,     0.50951,     0.51051,     0.51151,     0.51251,     0.51351,     0.51451,     0.51552,     0.51652,     0.51752,     0.51852,     0.51952,     0.52052,     0.52152,     0.52252,     0.52352,     0.52452,     0.52553,     0.52653,     0.52753,\n",
              "           0.52853,     0.52953,     0.53053,     0.53153,     0.53253,     0.53353,     0.53453,     0.53554,     0.53654,     0.53754,     0.53854,     0.53954,     0.54054,     0.54154,     0.54254,     0.54354,     0.54454,     0.54555,     0.54655,     0.54755,     0.54855,     0.54955,     0.55055,     0.55155,\n",
              "           0.55255,     0.55355,     0.55455,     0.55556,     0.55656,     0.55756,     0.55856,     0.55956,     0.56056,     0.56156,     0.56256,     0.56356,     0.56456,     0.56557,     0.56657,     0.56757,     0.56857,     0.56957,     0.57057,     0.57157,     0.57257,     0.57357,     0.57457,     0.57558,\n",
              "           0.57658,     0.57758,     0.57858,     0.57958,     0.58058,     0.58158,     0.58258,     0.58358,     0.58458,     0.58559,     0.58659,     0.58759,     0.58859,     0.58959,     0.59059,     0.59159,     0.59259,     0.59359,     0.59459,      0.5956,      0.5966,      0.5976,      0.5986,      0.5996,\n",
              "            0.6006,      0.6016,      0.6026,      0.6036,      0.6046,     0.60561,     0.60661,     0.60761,     0.60861,     0.60961,     0.61061,     0.61161,     0.61261,     0.61361,     0.61461,     0.61562,     0.61662,     0.61762,     0.61862,     0.61962,     0.62062,     0.62162,     0.62262,     0.62362,\n",
              "           0.62462,     0.62563,     0.62663,     0.62763,     0.62863,     0.62963,     0.63063,     0.63163,     0.63263,     0.63363,     0.63463,     0.63564,     0.63664,     0.63764,     0.63864,     0.63964,     0.64064,     0.64164,     0.64264,     0.64364,     0.64464,     0.64565,     0.64665,     0.64765,\n",
              "           0.64865,     0.64965,     0.65065,     0.65165,     0.65265,     0.65365,     0.65465,     0.65566,     0.65666,     0.65766,     0.65866,     0.65966,     0.66066,     0.66166,     0.66266,     0.66366,     0.66466,     0.66567,     0.66667,     0.66767,     0.66867,     0.66967,     0.67067,     0.67167,\n",
              "           0.67267,     0.67367,     0.67467,     0.67568,     0.67668,     0.67768,     0.67868,     0.67968,     0.68068,     0.68168,     0.68268,     0.68368,     0.68468,     0.68569,     0.68669,     0.68769,     0.68869,     0.68969,     0.69069,     0.69169,     0.69269,     0.69369,     0.69469,      0.6957,\n",
              "            0.6967,      0.6977,      0.6987,      0.6997,      0.7007,      0.7017,      0.7027,      0.7037,      0.7047,     0.70571,     0.70671,     0.70771,     0.70871,     0.70971,     0.71071,     0.71171,     0.71271,     0.71371,     0.71471,     0.71572,     0.71672,     0.71772,     0.71872,     0.71972,\n",
              "           0.72072,     0.72172,     0.72272,     0.72372,     0.72472,     0.72573,     0.72673,     0.72773,     0.72873,     0.72973,     0.73073,     0.73173,     0.73273,     0.73373,     0.73473,     0.73574,     0.73674,     0.73774,     0.73874,     0.73974,     0.74074,     0.74174,     0.74274,     0.74374,\n",
              "           0.74474,     0.74575,     0.74675,     0.74775,     0.74875,     0.74975,     0.75075,     0.75175,     0.75275,     0.75375,     0.75475,     0.75576,     0.75676,     0.75776,     0.75876,     0.75976,     0.76076,     0.76176,     0.76276,     0.76376,     0.76476,     0.76577,     0.76677,     0.76777,\n",
              "           0.76877,     0.76977,     0.77077,     0.77177,     0.77277,     0.77377,     0.77477,     0.77578,     0.77678,     0.77778,     0.77878,     0.77978,     0.78078,     0.78178,     0.78278,     0.78378,     0.78478,     0.78579,     0.78679,     0.78779,     0.78879,     0.78979,     0.79079,     0.79179,\n",
              "           0.79279,     0.79379,     0.79479,      0.7958,      0.7968,      0.7978,      0.7988,      0.7998,      0.8008,      0.8018,      0.8028,      0.8038,      0.8048,     0.80581,     0.80681,     0.80781,     0.80881,     0.80981,     0.81081,     0.81181,     0.81281,     0.81381,     0.81481,     0.81582,\n",
              "           0.81682,     0.81782,     0.81882,     0.81982,     0.82082,     0.82182,     0.82282,     0.82382,     0.82482,     0.82583,     0.82683,     0.82783,     0.82883,     0.82983,     0.83083,     0.83183,     0.83283,     0.83383,     0.83483,     0.83584,     0.83684,     0.83784,     0.83884,     0.83984,\n",
              "           0.84084,     0.84184,     0.84284,     0.84384,     0.84484,     0.84585,     0.84685,     0.84785,     0.84885,     0.84985,     0.85085,     0.85185,     0.85285,     0.85385,     0.85485,     0.85586,     0.85686,     0.85786,     0.85886,     0.85986,     0.86086,     0.86186,     0.86286,     0.86386,\n",
              "           0.86486,     0.86587,     0.86687,     0.86787,     0.86887,     0.86987,     0.87087,     0.87187,     0.87287,     0.87387,     0.87487,     0.87588,     0.87688,     0.87788,     0.87888,     0.87988,     0.88088,     0.88188,     0.88288,     0.88388,     0.88488,     0.88589,     0.88689,     0.88789,\n",
              "           0.88889,     0.88989,     0.89089,     0.89189,     0.89289,     0.89389,     0.89489,      0.8959,      0.8969,      0.8979,      0.8989,      0.8999,      0.9009,      0.9019,      0.9029,      0.9039,      0.9049,     0.90591,     0.90691,     0.90791,     0.90891,     0.90991,     0.91091,     0.91191,\n",
              "           0.91291,     0.91391,     0.91491,     0.91592,     0.91692,     0.91792,     0.91892,     0.91992,     0.92092,     0.92192,     0.92292,     0.92392,     0.92492,     0.92593,     0.92693,     0.92793,     0.92893,     0.92993,     0.93093,     0.93193,     0.93293,     0.93393,     0.93493,     0.93594,\n",
              "           0.93694,     0.93794,     0.93894,     0.93994,     0.94094,     0.94194,     0.94294,     0.94394,     0.94494,     0.94595,     0.94695,     0.94795,     0.94895,     0.94995,     0.95095,     0.95195,     0.95295,     0.95395,     0.95495,     0.95596,     0.95696,     0.95796,     0.95896,     0.95996,\n",
              "           0.96096,     0.96196,     0.96296,     0.96396,     0.96496,     0.96597,     0.96697,     0.96797,     0.96897,     0.96997,     0.97097,     0.97197,     0.97297,     0.97397,     0.97497,     0.97598,     0.97698,     0.97798,     0.97898,     0.97998,     0.98098,     0.98198,     0.98298,     0.98398,\n",
              "           0.98498,     0.98599,     0.98699,     0.98799,     0.98899,     0.98999,     0.99099,     0.99199,     0.99299,     0.99399,     0.99499,       0.996,       0.997,       0.998,       0.999,           1]), array([[    0.06201,     0.06201,    0.088637,     0.10976,     0.12679,     0.14239,     0.15628,     0.16759,     0.17934,     0.18904,      0.1987,     0.20773,     0.21657,     0.22417,     0.23312,     0.24092,     0.24819,     0.25536,     0.26226,     0.26812,     0.27447,     0.28111,     0.28531,\n",
              "             0.2891,     0.29477,     0.29817,      0.3039,     0.30868,     0.31317,     0.31782,     0.32195,       0.327,      0.3302,       0.335,     0.33766,     0.34155,     0.34415,     0.34846,     0.35263,     0.35682,     0.36109,     0.36595,     0.36718,     0.37216,     0.37689,     0.38058,\n",
              "            0.38353,     0.38573,     0.38988,     0.39376,     0.39764,     0.40105,     0.40453,     0.40686,     0.41102,     0.41353,      0.4151,      0.4176,     0.42028,     0.42415,     0.42786,     0.43266,     0.43479,     0.43519,     0.43774,     0.44079,      0.4427,     0.44503,     0.44697,\n",
              "            0.45009,     0.45058,     0.45248,     0.45351,     0.45621,      0.4578,     0.46139,     0.46324,      0.4661,     0.46833,     0.47043,     0.47261,     0.47411,     0.47556,       0.477,     0.47844,     0.48147,     0.48182,     0.48407,     0.48689,     0.48851,     0.49003,     0.49155,\n",
              "            0.49329,     0.49438,     0.49597,     0.49935,     0.50251,     0.50536,     0.50886,     0.51129,     0.51489,     0.51666,     0.51902,     0.51933,      0.5202,     0.52163,     0.52323,     0.52569,     0.52701,     0.52941,     0.53174,     0.53322,      0.5348,     0.53514,     0.53604,\n",
              "            0.53735,     0.53924,     0.54263,     0.54288,     0.54394,      0.5436,     0.54491,     0.54694,     0.54882,     0.55036,     0.55345,     0.55612,     0.55593,     0.55813,     0.55881,     0.56037,     0.56244,     0.56349,     0.56459,     0.56628,      0.5665,     0.56708,     0.56903,\n",
              "            0.56962,     0.57086,     0.57072,     0.57152,      0.5733,     0.57376,     0.57465,     0.57651,     0.57681,     0.57875,     0.58105,     0.58288,     0.58333,     0.58539,     0.58631,     0.58741,     0.58768,     0.58876,     0.59041,     0.59229,     0.59282,     0.59292,     0.59396,\n",
              "            0.59567,     0.59652,     0.59751,     0.59728,     0.59711,     0.59654,     0.59711,     0.59652,     0.59771,     0.59717,     0.59712,     0.59786,     0.59785,     0.59751,     0.59741,     0.59837,     0.59874,     0.59736,      0.5985,     0.59697,     0.59725,     0.59762,     0.59842,\n",
              "            0.60026,     0.60111,     0.60171,     0.60318,     0.60304,     0.60377,     0.60638,     0.60656,     0.60673,     0.60718,     0.60715,     0.60856,     0.60998,     0.60936,     0.60807,     0.60878,     0.60964,     0.61097,     0.61197,     0.61233,     0.61388,     0.61412,     0.61467,\n",
              "            0.61523,     0.61571,     0.61639,     0.61603,     0.61704,     0.61797,     0.61651,     0.61575,     0.61629,     0.61754,     0.61875,     0.61941,     0.61999,     0.62013,     0.62056,     0.62079,     0.62125,     0.62072,     0.62064,     0.61975,     0.62091,     0.61949,     0.62025,\n",
              "            0.61912,     0.61947,     0.61944,     0.62056,     0.62113,     0.62241,     0.62379,     0.62369,     0.62424,     0.62457,     0.62492,     0.62544,       0.626,     0.62492,     0.62568,     0.62638,     0.62651,     0.62664,      0.6274,     0.62735,     0.62859,     0.62687,     0.62683,\n",
              "            0.62737,     0.62818,     0.62885,     0.62973,      0.6307,     0.63165,     0.63158,     0.63284,     0.63269,     0.63309,     0.63281,      0.6335,     0.63255,      0.6329,     0.63366,     0.63387,     0.63259,      0.6311,     0.63053,     0.63045,     0.63124,     0.63249,     0.63295,\n",
              "             0.6326,     0.63106,     0.63148,     0.63209,     0.63244,     0.63275,     0.63357,     0.63392,     0.63486,     0.63285,     0.63303,     0.63321,     0.63354,     0.63137,     0.63192,     0.63099,       0.631,     0.63024,     0.63042,      0.6306,     0.63029,     0.62949,     0.63041,\n",
              "            0.62998,     0.62973,     0.63016,     0.63111,     0.63293,     0.63315,     0.63337,     0.63365,     0.63396,     0.63463,     0.63522,     0.63581,     0.63548,     0.63609,     0.63669,     0.63779,     0.63811,     0.63723,     0.63863,     0.63922,     0.63955,     0.63998,     0.64119,\n",
              "            0.64069,     0.64116,     0.64047,     0.64013,     0.64092,       0.642,     0.64203,     0.64004,     0.63994,     0.64171,      0.6421,     0.64138,     0.64001,     0.64029,     0.64142,     0.64299,     0.64454,     0.64629,     0.64688,     0.64757,       0.648,     0.64836,     0.64895,\n",
              "            0.64882,     0.64879,     0.64794,     0.64784,     0.64814,     0.64937,     0.64875,     0.64879,     0.64952,     0.65012,     0.64987,     0.64848,      0.6474,     0.64616,     0.64698,     0.64738,     0.64762,     0.64587,     0.64526,     0.64274,     0.64231,     0.64189,     0.64228,\n",
              "             0.6429,     0.64238,     0.64181,     0.64103,     0.64064,     0.64004,     0.64073,     0.64133,     0.64124,     0.64078,     0.64031,     0.63842,     0.63956,     0.64038,      0.6396,     0.64001,     0.63899,     0.63911,     0.64019,     0.64108,     0.64043,     0.64011,     0.63988,\n",
              "            0.63947,     0.63989,     0.63923,     0.63852,     0.63868,     0.63884,     0.63901,     0.63937,     0.63987,     0.64022,      0.6405,     0.63998,     0.63876,     0.64007,     0.63962,     0.64039,      0.6408,     0.64224,     0.64125,     0.64138,      0.6415,     0.64163,     0.64175,\n",
              "            0.64213,     0.64162,     0.64072,     0.64005,     0.63892,     0.63867,       0.638,     0.63682,     0.63704,     0.63765,     0.63713,     0.63772,     0.63804,     0.63709,     0.63897,     0.64022,     0.64078,      0.6411,     0.64142,     0.64174,     0.64208,     0.64245,     0.64229,\n",
              "            0.64026,     0.64007,     0.64039,     0.64024,     0.64004,     0.63958,     0.63913,     0.63933,     0.63965,     0.63997,      0.6403,     0.63967,     0.63898,     0.63829,     0.63757,     0.63623,     0.63554,     0.63472,     0.63381,     0.63432,     0.63465,      0.6342,     0.63313,\n",
              "            0.63244,     0.63244,     0.63372,     0.63437,      0.6345,     0.63426,     0.63403,     0.63379,     0.63356,     0.63333,     0.63343,     0.63365,     0.63386,     0.63306,     0.63198,     0.63098,     0.63163,     0.63143,     0.63114,     0.63086,     0.63058,     0.63028,     0.62957,\n",
              "             0.6288,     0.62621,     0.62658,     0.62543,     0.62576,     0.62475,     0.62556,     0.62518,      0.6254,     0.62562,     0.62646,     0.62663,     0.62679,     0.62696,     0.62797,     0.62812,     0.62764,     0.62716,     0.62727,     0.62717,     0.62703,     0.62631,     0.62682,\n",
              "            0.62704,     0.62726,     0.62779,     0.62814,     0.62836,     0.62858,     0.62878,     0.62732,     0.62677,     0.62641,     0.62604,     0.62567,     0.62628,       0.625,     0.62513,     0.62527,      0.6254,      0.6254,     0.62478,     0.62511,      0.6255,     0.62617,      0.6274,\n",
              "            0.62757,     0.62774,     0.62791,     0.62758,     0.62669,     0.62703,      0.6275,     0.62673,     0.62741,     0.62794,     0.62828,     0.62946,       0.629,     0.62842,     0.62859,     0.62877,     0.62894,     0.62911,     0.62928,     0.62945,     0.62963,     0.62872,      0.6283,\n",
              "            0.62755,     0.62827,      0.6285,     0.62873,     0.62786,     0.62743,     0.62778,     0.62874,     0.62898,     0.62921,     0.63037,      0.6298,     0.62823,     0.62798,     0.62773,     0.62747,     0.62722,     0.62696,     0.62576,     0.62594,     0.62515,     0.62401,      0.6238,\n",
              "            0.62303,     0.62176,      0.6221,     0.62245,      0.6228,     0.62288,     0.62226,     0.62169,     0.62118,     0.62066,      0.6209,      0.6216,     0.62078,     0.61922,     0.61904,     0.61939,      0.6196,     0.61978,     0.61996,     0.62013,     0.61879,     0.61693,     0.61654,\n",
              "            0.61615,     0.61575,     0.61516,     0.61437,     0.61452,     0.61421,     0.61389,     0.61358,     0.61326,     0.61273,     0.61209,     0.61177,     0.61256,     0.61147,     0.61165,     0.61182,       0.612,      0.6117,     0.61064,     0.60825,     0.60745,      0.6043,     0.60271,\n",
              "            0.60289,     0.60306,     0.60324,     0.60342,      0.6037,     0.60398,     0.60194,     0.60113,      0.6021,      0.5986,     0.59794,     0.59724,     0.59642,     0.59569,     0.59515,      0.5946,     0.59489,     0.59341,     0.59403,     0.59471,     0.59388,     0.59315,     0.59373,\n",
              "            0.59306,      0.5924,     0.58946,     0.58859,     0.58812,     0.58764,     0.58685,     0.58573,     0.58601,     0.58628,     0.58585,     0.58529,     0.58473,     0.58424,     0.58376,     0.58328,     0.58219,      0.5808,     0.57976,     0.57993,      0.5801,     0.58027,     0.57987,\n",
              "            0.57762,     0.57651,     0.57565,      0.5734,     0.57291,     0.57243,     0.56927,     0.56932,     0.56791,     0.56728,     0.56679,      0.5663,     0.56592,     0.56567,     0.56542,     0.56518,     0.56493,     0.56468,     0.56443,     0.56442,     0.56453,     0.56465,     0.56476,\n",
              "            0.56488,     0.56499,     0.56556,     0.56369,     0.56282,     0.56109,     0.56097,     0.56068,     0.56039,      0.5601,      0.5598,     0.55945,     0.55757,     0.55506,     0.55365,     0.55238,      0.5507,     0.54952,     0.54963,     0.55031,     0.54675,     0.54586,     0.54486,\n",
              "            0.54366,     0.54019,     0.54047,     0.53956,     0.53865,     0.53774,     0.53633,     0.53581,     0.53529,     0.53472,     0.53349,     0.53047,     0.52935,     0.52889,     0.52842,     0.52796,     0.52743,     0.52669,     0.52595,     0.52299,     0.52009,     0.51935,      0.5186,\n",
              "            0.51804,      0.5175,     0.51697,     0.51578,     0.51361,     0.51164,      0.5089,     0.50699,     0.50566,      0.5047,     0.50354,     0.50235,     0.50159,     0.50082,      0.4916,     0.49082,     0.49004,     0.49068,     0.49012,     0.48956,     0.48762,      0.4855,     0.48256,\n",
              "            0.47573,     0.47504,     0.47437,     0.47362,     0.47143,     0.46399,     0.46469,     0.46269,     0.46201,     0.46133,     0.45695,     0.45612,      0.4553,     0.45431,     0.45328,     0.44994,     0.44342,     0.44205,       0.441,     0.43551,     0.43274,      0.4312,     0.43035,\n",
              "             0.4295,     0.42831,     0.42769,      0.4252,     0.42329,     0.41881,     0.41524,     0.41379,     0.41178,     0.41016,     0.40927,     0.40965,     0.40877,     0.40767,     0.39926,     0.39359,     0.39134,     0.38909,     0.38501,     0.38352,     0.38261,      0.3817,     0.38079,\n",
              "            0.37988,     0.37874,     0.37378,      0.3708,     0.37106,      0.3714,     0.37024,     0.36799,     0.36525,     0.36163,     0.36045,     0.35822,     0.35429,     0.35081,     0.35013,     0.34945,      0.3487,     0.34643,     0.34575,     0.34507,     0.34438,     0.34306,      0.3412,\n",
              "            0.33707,     0.33508,     0.33448,     0.33387,     0.33326,     0.33122,     0.32827,     0.32846,     0.32897,     0.32551,     0.32428,     0.31702,     0.31394,     0.31269,     0.31074,     0.30677,     0.30326,     0.29879,     0.29716,     0.29589,     0.29508,     0.29408,     0.29147,\n",
              "            0.28952,     0.28849,     0.28787,     0.28805,     0.28822,     0.28541,     0.28467,     0.28393,     0.28319,     0.28101,      0.2784,     0.27578,     0.27315,     0.27052,     0.26832,     0.26777,     0.26486,     0.26058,     0.25924,     0.25684,     0.25355,     0.25255,     0.24892,\n",
              "            0.24447,     0.24256,     0.24195,     0.24134,     0.24073,     0.24012,     0.23875,     0.23748,     0.23506,     0.23427,     0.23348,     0.23269,     0.23248,     0.23257,     0.23266,     0.23275,     0.22744,     0.22715,     0.22529,     0.22502,     0.22314,     0.22229,     0.22159,\n",
              "            0.22088,     0.22017,     0.21878,     0.21727,      0.2136,     0.20891,       0.207,      0.2031,     0.19738,     0.18908,     0.18791,     0.18673,     0.18556,     0.18438,     0.18269,     0.17973,     0.17749,     0.17664,     0.17579,     0.17494,     0.17213,     0.16621,     0.16516,\n",
              "            0.16416,     0.16292,     0.15687,     0.15108,     0.14521,     0.14367,     0.14187,     0.13819,     0.13563,      0.1346,     0.13356,     0.13091,     0.12319,     0.11897,     0.11695,     0.11569,     0.11502,     0.11374,      0.1043,      0.1016,    0.099465,    0.097849,     0.09588,\n",
              "           0.086654,    0.085015,    0.079446,    0.075731,    0.066158,     0.06182,    0.060212,    0.059249,    0.058286,    0.053901,    0.052545,    0.051188,    0.049032,    0.043425,     0.04114,    0.034481,    0.029238,    0.025758,    0.023202,    0.021453,    0.020213,    0.019336,    0.018459,\n",
              "            0.01758,    0.015701,    0.013093,    0.010244,    0.009536,    0.008827,   0.0081175,   0.0074075,   0.0064373,   0.0050144,   0.0035895,           0,           0,           0,           0,           0,           0,           0,           0,           0,           0,           0,           0,\n",
              "                  0,           0,           0,           0,           0,           0,           0,           0,           0,           0,           0]]), 'Confidence', 'F1'], [array([          0,    0.001001,    0.002002,    0.003003,    0.004004,    0.005005,    0.006006,    0.007007,    0.008008,    0.009009,     0.01001,    0.011011,    0.012012,    0.013013,    0.014014,    0.015015,    0.016016,    0.017017,    0.018018,    0.019019,     0.02002,    0.021021,    0.022022,    0.023023,\n",
              "          0.024024,    0.025025,    0.026026,    0.027027,    0.028028,    0.029029,     0.03003,    0.031031,    0.032032,    0.033033,    0.034034,    0.035035,    0.036036,    0.037037,    0.038038,    0.039039,     0.04004,    0.041041,    0.042042,    0.043043,    0.044044,    0.045045,    0.046046,    0.047047,\n",
              "          0.048048,    0.049049,     0.05005,    0.051051,    0.052052,    0.053053,    0.054054,    0.055055,    0.056056,    0.057057,    0.058058,    0.059059,     0.06006,    0.061061,    0.062062,    0.063063,    0.064064,    0.065065,    0.066066,    0.067067,    0.068068,    0.069069,     0.07007,    0.071071,\n",
              "          0.072072,    0.073073,    0.074074,    0.075075,    0.076076,    0.077077,    0.078078,    0.079079,     0.08008,    0.081081,    0.082082,    0.083083,    0.084084,    0.085085,    0.086086,    0.087087,    0.088088,    0.089089,     0.09009,    0.091091,    0.092092,    0.093093,    0.094094,    0.095095,\n",
              "          0.096096,    0.097097,    0.098098,    0.099099,      0.1001,      0.1011,      0.1021,      0.1031,      0.1041,     0.10511,     0.10611,     0.10711,     0.10811,     0.10911,     0.11011,     0.11111,     0.11211,     0.11311,     0.11411,     0.11512,     0.11612,     0.11712,     0.11812,     0.11912,\n",
              "           0.12012,     0.12112,     0.12212,     0.12312,     0.12412,     0.12513,     0.12613,     0.12713,     0.12813,     0.12913,     0.13013,     0.13113,     0.13213,     0.13313,     0.13413,     0.13514,     0.13614,     0.13714,     0.13814,     0.13914,     0.14014,     0.14114,     0.14214,     0.14314,\n",
              "           0.14414,     0.14515,     0.14615,     0.14715,     0.14815,     0.14915,     0.15015,     0.15115,     0.15215,     0.15315,     0.15415,     0.15516,     0.15616,     0.15716,     0.15816,     0.15916,     0.16016,     0.16116,     0.16216,     0.16316,     0.16416,     0.16517,     0.16617,     0.16717,\n",
              "           0.16817,     0.16917,     0.17017,     0.17117,     0.17217,     0.17317,     0.17417,     0.17518,     0.17618,     0.17718,     0.17818,     0.17918,     0.18018,     0.18118,     0.18218,     0.18318,     0.18418,     0.18519,     0.18619,     0.18719,     0.18819,     0.18919,     0.19019,     0.19119,\n",
              "           0.19219,     0.19319,     0.19419,      0.1952,      0.1962,      0.1972,      0.1982,      0.1992,      0.2002,      0.2012,      0.2022,      0.2032,      0.2042,     0.20521,     0.20621,     0.20721,     0.20821,     0.20921,     0.21021,     0.21121,     0.21221,     0.21321,     0.21421,     0.21522,\n",
              "           0.21622,     0.21722,     0.21822,     0.21922,     0.22022,     0.22122,     0.22222,     0.22322,     0.22422,     0.22523,     0.22623,     0.22723,     0.22823,     0.22923,     0.23023,     0.23123,     0.23223,     0.23323,     0.23423,     0.23524,     0.23624,     0.23724,     0.23824,     0.23924,\n",
              "           0.24024,     0.24124,     0.24224,     0.24324,     0.24424,     0.24525,     0.24625,     0.24725,     0.24825,     0.24925,     0.25025,     0.25125,     0.25225,     0.25325,     0.25425,     0.25526,     0.25626,     0.25726,     0.25826,     0.25926,     0.26026,     0.26126,     0.26226,     0.26326,\n",
              "           0.26426,     0.26527,     0.26627,     0.26727,     0.26827,     0.26927,     0.27027,     0.27127,     0.27227,     0.27327,     0.27427,     0.27528,     0.27628,     0.27728,     0.27828,     0.27928,     0.28028,     0.28128,     0.28228,     0.28328,     0.28428,     0.28529,     0.28629,     0.28729,\n",
              "           0.28829,     0.28929,     0.29029,     0.29129,     0.29229,     0.29329,     0.29429,      0.2953,      0.2963,      0.2973,      0.2983,      0.2993,      0.3003,      0.3013,      0.3023,      0.3033,      0.3043,     0.30531,     0.30631,     0.30731,     0.30831,     0.30931,     0.31031,     0.31131,\n",
              "           0.31231,     0.31331,     0.31431,     0.31532,     0.31632,     0.31732,     0.31832,     0.31932,     0.32032,     0.32132,     0.32232,     0.32332,     0.32432,     0.32533,     0.32633,     0.32733,     0.32833,     0.32933,     0.33033,     0.33133,     0.33233,     0.33333,     0.33433,     0.33534,\n",
              "           0.33634,     0.33734,     0.33834,     0.33934,     0.34034,     0.34134,     0.34234,     0.34334,     0.34434,     0.34535,     0.34635,     0.34735,     0.34835,     0.34935,     0.35035,     0.35135,     0.35235,     0.35335,     0.35435,     0.35536,     0.35636,     0.35736,     0.35836,     0.35936,\n",
              "           0.36036,     0.36136,     0.36236,     0.36336,     0.36436,     0.36537,     0.36637,     0.36737,     0.36837,     0.36937,     0.37037,     0.37137,     0.37237,     0.37337,     0.37437,     0.37538,     0.37638,     0.37738,     0.37838,     0.37938,     0.38038,     0.38138,     0.38238,     0.38338,\n",
              "           0.38438,     0.38539,     0.38639,     0.38739,     0.38839,     0.38939,     0.39039,     0.39139,     0.39239,     0.39339,     0.39439,      0.3954,      0.3964,      0.3974,      0.3984,      0.3994,      0.4004,      0.4014,      0.4024,      0.4034,      0.4044,     0.40541,     0.40641,     0.40741,\n",
              "           0.40841,     0.40941,     0.41041,     0.41141,     0.41241,     0.41341,     0.41441,     0.41542,     0.41642,     0.41742,     0.41842,     0.41942,     0.42042,     0.42142,     0.42242,     0.42342,     0.42442,     0.42543,     0.42643,     0.42743,     0.42843,     0.42943,     0.43043,     0.43143,\n",
              "           0.43243,     0.43343,     0.43443,     0.43544,     0.43644,     0.43744,     0.43844,     0.43944,     0.44044,     0.44144,     0.44244,     0.44344,     0.44444,     0.44545,     0.44645,     0.44745,     0.44845,     0.44945,     0.45045,     0.45145,     0.45245,     0.45345,     0.45445,     0.45546,\n",
              "           0.45646,     0.45746,     0.45846,     0.45946,     0.46046,     0.46146,     0.46246,     0.46346,     0.46446,     0.46547,     0.46647,     0.46747,     0.46847,     0.46947,     0.47047,     0.47147,     0.47247,     0.47347,     0.47447,     0.47548,     0.47648,     0.47748,     0.47848,     0.47948,\n",
              "           0.48048,     0.48148,     0.48248,     0.48348,     0.48448,     0.48549,     0.48649,     0.48749,     0.48849,     0.48949,     0.49049,     0.49149,     0.49249,     0.49349,     0.49449,      0.4955,      0.4965,      0.4975,      0.4985,      0.4995,      0.5005,      0.5015,      0.5025,      0.5035,\n",
              "            0.5045,     0.50551,     0.50651,     0.50751,     0.50851,     0.50951,     0.51051,     0.51151,     0.51251,     0.51351,     0.51451,     0.51552,     0.51652,     0.51752,     0.51852,     0.51952,     0.52052,     0.52152,     0.52252,     0.52352,     0.52452,     0.52553,     0.52653,     0.52753,\n",
              "           0.52853,     0.52953,     0.53053,     0.53153,     0.53253,     0.53353,     0.53453,     0.53554,     0.53654,     0.53754,     0.53854,     0.53954,     0.54054,     0.54154,     0.54254,     0.54354,     0.54454,     0.54555,     0.54655,     0.54755,     0.54855,     0.54955,     0.55055,     0.55155,\n",
              "           0.55255,     0.55355,     0.55455,     0.55556,     0.55656,     0.55756,     0.55856,     0.55956,     0.56056,     0.56156,     0.56256,     0.56356,     0.56456,     0.56557,     0.56657,     0.56757,     0.56857,     0.56957,     0.57057,     0.57157,     0.57257,     0.57357,     0.57457,     0.57558,\n",
              "           0.57658,     0.57758,     0.57858,     0.57958,     0.58058,     0.58158,     0.58258,     0.58358,     0.58458,     0.58559,     0.58659,     0.58759,     0.58859,     0.58959,     0.59059,     0.59159,     0.59259,     0.59359,     0.59459,      0.5956,      0.5966,      0.5976,      0.5986,      0.5996,\n",
              "            0.6006,      0.6016,      0.6026,      0.6036,      0.6046,     0.60561,     0.60661,     0.60761,     0.60861,     0.60961,     0.61061,     0.61161,     0.61261,     0.61361,     0.61461,     0.61562,     0.61662,     0.61762,     0.61862,     0.61962,     0.62062,     0.62162,     0.62262,     0.62362,\n",
              "           0.62462,     0.62563,     0.62663,     0.62763,     0.62863,     0.62963,     0.63063,     0.63163,     0.63263,     0.63363,     0.63463,     0.63564,     0.63664,     0.63764,     0.63864,     0.63964,     0.64064,     0.64164,     0.64264,     0.64364,     0.64464,     0.64565,     0.64665,     0.64765,\n",
              "           0.64865,     0.64965,     0.65065,     0.65165,     0.65265,     0.65365,     0.65465,     0.65566,     0.65666,     0.65766,     0.65866,     0.65966,     0.66066,     0.66166,     0.66266,     0.66366,     0.66466,     0.66567,     0.66667,     0.66767,     0.66867,     0.66967,     0.67067,     0.67167,\n",
              "           0.67267,     0.67367,     0.67467,     0.67568,     0.67668,     0.67768,     0.67868,     0.67968,     0.68068,     0.68168,     0.68268,     0.68368,     0.68468,     0.68569,     0.68669,     0.68769,     0.68869,     0.68969,     0.69069,     0.69169,     0.69269,     0.69369,     0.69469,      0.6957,\n",
              "            0.6967,      0.6977,      0.6987,      0.6997,      0.7007,      0.7017,      0.7027,      0.7037,      0.7047,     0.70571,     0.70671,     0.70771,     0.70871,     0.70971,     0.71071,     0.71171,     0.71271,     0.71371,     0.71471,     0.71572,     0.71672,     0.71772,     0.71872,     0.71972,\n",
              "           0.72072,     0.72172,     0.72272,     0.72372,     0.72472,     0.72573,     0.72673,     0.72773,     0.72873,     0.72973,     0.73073,     0.73173,     0.73273,     0.73373,     0.73473,     0.73574,     0.73674,     0.73774,     0.73874,     0.73974,     0.74074,     0.74174,     0.74274,     0.74374,\n",
              "           0.74474,     0.74575,     0.74675,     0.74775,     0.74875,     0.74975,     0.75075,     0.75175,     0.75275,     0.75375,     0.75475,     0.75576,     0.75676,     0.75776,     0.75876,     0.75976,     0.76076,     0.76176,     0.76276,     0.76376,     0.76476,     0.76577,     0.76677,     0.76777,\n",
              "           0.76877,     0.76977,     0.77077,     0.77177,     0.77277,     0.77377,     0.77477,     0.77578,     0.77678,     0.77778,     0.77878,     0.77978,     0.78078,     0.78178,     0.78278,     0.78378,     0.78478,     0.78579,     0.78679,     0.78779,     0.78879,     0.78979,     0.79079,     0.79179,\n",
              "           0.79279,     0.79379,     0.79479,      0.7958,      0.7968,      0.7978,      0.7988,      0.7998,      0.8008,      0.8018,      0.8028,      0.8038,      0.8048,     0.80581,     0.80681,     0.80781,     0.80881,     0.80981,     0.81081,     0.81181,     0.81281,     0.81381,     0.81481,     0.81582,\n",
              "           0.81682,     0.81782,     0.81882,     0.81982,     0.82082,     0.82182,     0.82282,     0.82382,     0.82482,     0.82583,     0.82683,     0.82783,     0.82883,     0.82983,     0.83083,     0.83183,     0.83283,     0.83383,     0.83483,     0.83584,     0.83684,     0.83784,     0.83884,     0.83984,\n",
              "           0.84084,     0.84184,     0.84284,     0.84384,     0.84484,     0.84585,     0.84685,     0.84785,     0.84885,     0.84985,     0.85085,     0.85185,     0.85285,     0.85385,     0.85485,     0.85586,     0.85686,     0.85786,     0.85886,     0.85986,     0.86086,     0.86186,     0.86286,     0.86386,\n",
              "           0.86486,     0.86587,     0.86687,     0.86787,     0.86887,     0.86987,     0.87087,     0.87187,     0.87287,     0.87387,     0.87487,     0.87588,     0.87688,     0.87788,     0.87888,     0.87988,     0.88088,     0.88188,     0.88288,     0.88388,     0.88488,     0.88589,     0.88689,     0.88789,\n",
              "           0.88889,     0.88989,     0.89089,     0.89189,     0.89289,     0.89389,     0.89489,      0.8959,      0.8969,      0.8979,      0.8989,      0.8999,      0.9009,      0.9019,      0.9029,      0.9039,      0.9049,     0.90591,     0.90691,     0.90791,     0.90891,     0.90991,     0.91091,     0.91191,\n",
              "           0.91291,     0.91391,     0.91491,     0.91592,     0.91692,     0.91792,     0.91892,     0.91992,     0.92092,     0.92192,     0.92292,     0.92392,     0.92492,     0.92593,     0.92693,     0.92793,     0.92893,     0.92993,     0.93093,     0.93193,     0.93293,     0.93393,     0.93493,     0.93594,\n",
              "           0.93694,     0.93794,     0.93894,     0.93994,     0.94094,     0.94194,     0.94294,     0.94394,     0.94494,     0.94595,     0.94695,     0.94795,     0.94895,     0.94995,     0.95095,     0.95195,     0.95295,     0.95395,     0.95495,     0.95596,     0.95696,     0.95796,     0.95896,     0.95996,\n",
              "           0.96096,     0.96196,     0.96296,     0.96396,     0.96496,     0.96597,     0.96697,     0.96797,     0.96897,     0.96997,     0.97097,     0.97197,     0.97297,     0.97397,     0.97497,     0.97598,     0.97698,     0.97798,     0.97898,     0.97998,     0.98098,     0.98198,     0.98298,     0.98398,\n",
              "           0.98498,     0.98599,     0.98699,     0.98799,     0.98899,     0.98999,     0.99099,     0.99199,     0.99299,     0.99399,     0.99499,       0.996,       0.997,       0.998,       0.999,           1]), array([[   0.032017,    0.032017,    0.046436,    0.058192,    0.067897,    0.076958,    0.085164,    0.091975,     0.09912,     0.10512,     0.11116,     0.11684,     0.12246,     0.12738,     0.13319,     0.13834,      0.1432,       0.148,     0.15269,     0.15674,     0.16114,      0.1658,     0.16884,\n",
              "            0.17169,     0.17577,     0.17826,     0.18237,     0.18604,     0.18947,     0.19296,      0.1961,     0.19986,     0.20243,     0.20623,     0.20845,     0.21162,     0.21372,     0.21706,      0.2203,     0.22358,     0.22694,      0.2308,      0.2319,     0.23589,      0.2397,     0.24269,\n",
              "            0.24509,     0.24703,     0.25044,     0.25366,     0.25688,     0.25974,     0.26267,     0.26463,     0.26817,     0.27047,     0.27198,     0.27448,      0.2768,     0.28016,     0.28341,     0.28764,     0.28972,     0.29041,     0.29294,     0.29568,      0.2976,     0.29992,     0.30191,\n",
              "            0.30476,     0.30587,     0.30762,     0.30904,     0.31157,     0.31351,     0.31689,     0.31863,      0.3216,     0.32398,     0.32605,     0.32835,      0.3298,     0.33148,     0.33316,     0.33457,     0.33754,     0.33844,     0.34067,     0.34347,     0.34508,      0.3466,     0.34843,\n",
              "             0.3508,     0.35222,     0.35383,     0.35728,     0.36053,     0.36347,      0.3671,     0.36963,     0.37377,     0.37564,     0.37813,     0.37883,     0.37976,     0.38128,     0.38337,     0.38602,     0.38744,     0.39004,     0.39258,     0.39459,     0.39633,      0.3967,     0.39769,\n",
              "            0.39955,     0.40165,     0.40542,     0.40612,     0.40731,     0.40824,     0.40972,     0.41201,     0.41415,      0.4159,     0.41945,     0.42253,     0.42325,     0.42581,     0.42709,     0.42891,     0.43135,     0.43308,     0.43438,     0.43638,     0.43664,     0.43784,      0.4407,\n",
              "            0.44194,     0.44344,     0.44434,     0.44531,     0.44748,     0.44961,     0.45081,      0.4531,     0.45347,     0.45587,     0.45873,     0.46101,     0.46217,     0.46476,     0.46654,     0.46793,     0.46827,     0.46964,     0.47178,     0.47478,     0.47546,     0.47621,     0.47758,\n",
              "            0.48045,     0.48156,     0.48338,     0.48387,     0.48433,     0.48425,     0.48501,      0.4856,     0.48757,     0.48814,     0.48848,     0.48948,     0.48975,     0.48972,      0.4903,      0.4916,      0.4921,     0.49192,     0.49396,     0.49336,     0.49437,     0.49575,     0.49686,\n",
              "            0.49939,     0.50091,     0.50219,     0.50423,     0.50483,     0.50585,     0.50953,     0.50978,     0.51003,     0.51148,     0.51225,     0.51426,     0.51631,     0.51594,     0.51523,     0.51626,     0.51835,     0.52028,     0.52173,     0.52225,      0.5245,     0.52573,     0.52655,\n",
              "             0.5278,     0.52896,     0.52997,     0.53034,     0.53184,     0.53324,     0.53289,     0.53269,     0.53351,     0.53538,      0.5372,     0.53819,     0.54002,      0.5412,     0.54185,     0.54222,     0.54292,     0.54271,     0.54296,     0.54357,     0.54535,     0.54517,     0.54693,\n",
              "            0.54765,      0.5482,     0.54919,     0.55095,     0.55185,     0.55387,     0.55607,     0.55698,     0.55786,     0.55839,     0.55895,     0.55977,     0.56178,     0.56162,     0.56349,     0.56461,     0.56483,     0.56504,     0.56627,     0.56711,     0.56939,     0.56841,     0.56878,\n",
              "            0.56966,       0.571,     0.57212,     0.57356,     0.57519,     0.57676,     0.57701,     0.57996,     0.58214,     0.58292,     0.58359,     0.58477,      0.5844,     0.58499,     0.58629,     0.58665,     0.58612,     0.58587,     0.58555,     0.58587,     0.58723,     0.58939,     0.59019,\n",
              "             0.5903,     0.58952,     0.59026,     0.59132,     0.59194,     0.59249,     0.59393,     0.59455,     0.59649,     0.59672,     0.59703,     0.59735,     0.59932,     0.59962,     0.60062,     0.60036,     0.60143,     0.60185,     0.60218,     0.60251,     0.60339,     0.60326,      0.6051,\n",
              "            0.60578,      0.6068,     0.60761,     0.60938,     0.61278,     0.61319,      0.6136,     0.61413,     0.61472,     0.61597,     0.61709,     0.61821,     0.61846,     0.62029,     0.62143,     0.62355,     0.62416,     0.62408,     0.62675,      0.6279,     0.62854,     0.62937,      0.6317,\n",
              "            0.63238,     0.63361,     0.63325,     0.63385,     0.63619,     0.63831,     0.63886,      0.6378,     0.63939,     0.64295,     0.64372,     0.64344,     0.64272,     0.64361,     0.64591,      0.6491,     0.65227,     0.65587,     0.65708,      0.6585,      0.6594,     0.66014,     0.66136,\n",
              "             0.6621,     0.66291,     0.66256,     0.66284,     0.66346,     0.66605,     0.66574,     0.66676,     0.66831,     0.66958,     0.67006,     0.66935,     0.66881,     0.66906,     0.67082,     0.67168,     0.67276,     0.67248,      0.6732,     0.67225,     0.67204,     0.67183,     0.67293,\n",
              "            0.67428,     0.67406,     0.67377,     0.67338,     0.67418,     0.67433,     0.67585,     0.67719,     0.67752,     0.67729,     0.67705,     0.67712,     0.67978,     0.68227,      0.6821,     0.68302,     0.68263,     0.68323,      0.6857,     0.68794,     0.68762,     0.68781,     0.68844,\n",
              "            0.68862,      0.6896,      0.6904,      0.6911,     0.69148,     0.69187,     0.69225,     0.69311,     0.69427,      0.6951,     0.69653,     0.69627,     0.69568,     0.69959,      0.7007,     0.70285,     0.70382,     0.70785,     0.70744,     0.70774,     0.70805,     0.70836,     0.70866,\n",
              "            0.70958,     0.70997,     0.70954,     0.70923,     0.70869,     0.70979,     0.70948,     0.70891,     0.71001,     0.71177,     0.71291,     0.71439,     0.71518,     0.71551,     0.72025,     0.72345,     0.72488,      0.7257,     0.72652,     0.72734,     0.72821,     0.72915,     0.73159,\n",
              "            0.73113,     0.73153,     0.73237,      0.7349,     0.73514,     0.73493,     0.73473,     0.73541,     0.73627,     0.73713,     0.73799,     0.73775,     0.73745,     0.73714,     0.73682,     0.73622,     0.73591,     0.73554,     0.73568,     0.73707,     0.73795,     0.73815,     0.73767,\n",
              "            0.73736,     0.73813,     0.74163,     0.74341,     0.74407,     0.74397,     0.74386,     0.74376,     0.74366,     0.74356,     0.74397,     0.74457,     0.74517,     0.74616,     0.74593,     0.74682,     0.74865,     0.74869,     0.74857,     0.74844,     0.74832,     0.74819,     0.74788,\n",
              "            0.74754,     0.74658,      0.7481,     0.74772,     0.74865,     0.74917,     0.75231,     0.75386,     0.75449,     0.75513,     0.75758,     0.75807,     0.75855,     0.75903,     0.76202,       0.763,      0.7628,      0.7626,     0.76353,     0.76683,      0.7675,      0.7672,     0.76945,\n",
              "            0.77012,     0.77079,     0.77239,     0.77345,     0.77412,      0.7748,     0.77846,     0.77787,     0.77765,     0.77751,     0.77736,     0.77721,     0.77915,     0.77905,     0.77946,     0.77988,      0.7803,     0.78063,     0.78227,     0.78332,     0.78455,     0.78667,     0.79056,\n",
              "             0.7911,     0.79164,     0.79218,     0.79238,     0.79236,     0.79344,     0.79494,     0.79659,     0.79879,      0.8005,     0.80161,     0.80547,     0.80625,     0.80632,     0.80689,     0.80745,     0.80802,     0.80859,     0.80916,     0.80973,     0.81029,     0.81163,     0.81195,\n",
              "            0.81168,     0.81452,      0.8153,     0.81607,     0.81584,     0.81614,     0.81731,      0.8206,     0.82139,     0.82218,     0.82618,     0.82691,     0.82852,     0.82844,     0.82835,     0.82827,     0.82819,      0.8281,      0.8277,     0.82947,     0.83144,     0.83147,     0.83361,\n",
              "            0.83336,     0.83396,     0.83522,     0.83648,     0.83775,     0.84004,     0.83985,     0.83967,     0.83951,     0.83935,     0.84089,     0.84347,     0.84399,     0.84351,     0.84432,     0.84562,     0.84643,     0.84708,     0.84774,      0.8484,     0.84808,     0.84751,     0.84739,\n",
              "            0.84727,     0.84715,     0.84697,     0.84673,     0.84918,     0.84908,     0.84899,     0.84889,      0.8488,     0.84864,     0.84844,     0.84893,     0.85346,     0.85332,       0.854,     0.85469,     0.85538,     0.85568,     0.85537,     0.85467,     0.85444,     0.85351,     0.85305,\n",
              "            0.85375,     0.85445,     0.85515,      0.8559,     0.85702,     0.85815,     0.85791,     0.85767,     0.86247,     0.86216,     0.86197,     0.86177,     0.86154,     0.86133,     0.86117,     0.86102,     0.86345,     0.86335,     0.86619,     0.86912,      0.8689,     0.86888,     0.87161,\n",
              "            0.87143,     0.87125,     0.87045,     0.87022,     0.87009,     0.86996,     0.86974,     0.86977,     0.87099,     0.87222,     0.87229,     0.87214,     0.87198,     0.87185,     0.87172,     0.87159,      0.8713,     0.87092,     0.87068,     0.87146,     0.87225,     0.87303,     0.87354,\n",
              "            0.87293,     0.87263,      0.8724,     0.87179,     0.87165,     0.87152,     0.87065,     0.87323,     0.87324,     0.87307,     0.87293,      0.8728,     0.87269,     0.87263,     0.87256,     0.87249,     0.87242,     0.87235,     0.87229,     0.87262,     0.87316,     0.87371,     0.87426,\n",
              "             0.8748,     0.87535,     0.87809,     0.87815,     0.87792,     0.87989,     0.88053,     0.88045,     0.88038,      0.8803,     0.88022,     0.88013,     0.87964,     0.87897,      0.8786,     0.87826,     0.87781,     0.87749,     0.87982,      0.8833,     0.88321,     0.88297,     0.88272,\n",
              "             0.8824,     0.88148,     0.88825,     0.88802,     0.88779,     0.88756,     0.89063,      0.8905,     0.89037,     0.89022,     0.88992,     0.88916,     0.88887,     0.88875,     0.88864,     0.88852,     0.88838,     0.88819,     0.88801,     0.88724,     0.88649,     0.88629,      0.8861,\n",
              "            0.88595,     0.88581,     0.88567,     0.88535,      0.8884,     0.88789,     0.88717,     0.88666,     0.88631,     0.88605,     0.88574,     0.88542,     0.88522,     0.88501,     0.88631,      0.8861,     0.88588,     0.89389,     0.89375,      0.8936,      0.8931,     0.89255,     0.89178,\n",
              "            0.88996,     0.88977,     0.88959,     0.88939,     0.88879,     0.88722,     0.89237,     0.89488,      0.8947,     0.89452,     0.89335,     0.89312,      0.8929,     0.89263,     0.89235,     0.89143,      0.8896,      0.8892,     0.88891,     0.88731,     0.88649,     0.89071,     0.89046,\n",
              "            0.89021,     0.88987,     0.89931,     0.89863,     0.89811,     0.89687,     0.89587,     0.89545,     0.89488,     0.89441,     0.89525,     0.89886,     0.89915,     0.89884,     0.89644,     0.89477,      0.8941,     0.89342,     0.89217,     0.89171,     0.89142,     0.89114,     0.89085,\n",
              "            0.89056,      0.8902,      0.8886,     0.88762,      0.8978,     0.90532,     0.90499,     0.90434,     0.90355,     0.90248,     0.90213,     0.90146,     0.90026,     0.89918,     0.89897,     0.89875,     0.89852,      0.8978,     0.89758,     0.89735,     0.89713,     0.90322,     0.90265,\n",
              "            0.90135,     0.90072,     0.90052,     0.90033,     0.90013,     0.89946,      0.9009,      0.9038,     0.91156,     0.91166,      0.9113,      0.9091,     0.90813,     0.90774,     0.90712,     0.90583,     0.90466,     0.90314,     0.90258,     0.90214,     0.90538,      0.9095,     0.90864,\n",
              "            0.90799,     0.90764,     0.90858,     0.91206,     0.91554,       0.915,     0.91476,     0.91452,     0.91429,     0.92231,     0.92153,     0.92074,     0.91992,     0.91909,     0.91976,     0.92758,     0.92673,     0.92544,     0.92503,     0.92429,     0.92325,     0.93309,     0.93205,\n",
              "            0.93074,     0.93016,     0.92997,     0.92979,      0.9296,     0.92941,     0.92898,     0.92962,     0.93901,     0.93879,     0.93857,     0.93835,     0.94024,     0.94325,     0.94625,     0.94926,     0.95207,     0.96094,     0.96059,     0.98644,     0.98632,     0.98626,     0.98621,\n",
              "            0.98616,     0.98611,     0.98601,     0.98591,     0.98564,     0.98528,     0.98513,     0.98482,     0.98434,     0.98359,     0.98348,     0.98336,     0.98325,     0.98313,     0.98296,     0.98266,     0.98243,     0.98233,     0.98224,     0.98215,     0.98184,     0.98114,     0.98101,\n",
              "            0.98089,     0.98073,     0.97994,     0.97912,     0.97823,     0.97798,     0.97769,     0.97706,     0.97661,     0.97642,     0.97623,     0.97573,     0.97414,     0.97319,     0.97271,      0.9724,     0.98398,           1,           1,           1,           1,           1,           1,\n",
              "                  1,           1,           1,           1,           1,           1,           1,           1,           1,           1,           1,           1,           1,           1,           1,           1,           1,           1,           1,           1,           1,           1,           1,\n",
              "                  1,           1,           1,           1,           1,           1,           1,           1,           1,           1,           1,           1,           1,           1,           1,           1,           1,           1,           1,           1,           1,           1,           1,\n",
              "                  1,           1,           1,           1,           1,           1,           1,           1,           1,           1,           1]]), 'Confidence', 'Precision'], [array([          0,    0.001001,    0.002002,    0.003003,    0.004004,    0.005005,    0.006006,    0.007007,    0.008008,    0.009009,     0.01001,    0.011011,    0.012012,    0.013013,    0.014014,    0.015015,    0.016016,    0.017017,    0.018018,    0.019019,     0.02002,    0.021021,    0.022022,    0.023023,\n",
              "          0.024024,    0.025025,    0.026026,    0.027027,    0.028028,    0.029029,     0.03003,    0.031031,    0.032032,    0.033033,    0.034034,    0.035035,    0.036036,    0.037037,    0.038038,    0.039039,     0.04004,    0.041041,    0.042042,    0.043043,    0.044044,    0.045045,    0.046046,    0.047047,\n",
              "          0.048048,    0.049049,     0.05005,    0.051051,    0.052052,    0.053053,    0.054054,    0.055055,    0.056056,    0.057057,    0.058058,    0.059059,     0.06006,    0.061061,    0.062062,    0.063063,    0.064064,    0.065065,    0.066066,    0.067067,    0.068068,    0.069069,     0.07007,    0.071071,\n",
              "          0.072072,    0.073073,    0.074074,    0.075075,    0.076076,    0.077077,    0.078078,    0.079079,     0.08008,    0.081081,    0.082082,    0.083083,    0.084084,    0.085085,    0.086086,    0.087087,    0.088088,    0.089089,     0.09009,    0.091091,    0.092092,    0.093093,    0.094094,    0.095095,\n",
              "          0.096096,    0.097097,    0.098098,    0.099099,      0.1001,      0.1011,      0.1021,      0.1031,      0.1041,     0.10511,     0.10611,     0.10711,     0.10811,     0.10911,     0.11011,     0.11111,     0.11211,     0.11311,     0.11411,     0.11512,     0.11612,     0.11712,     0.11812,     0.11912,\n",
              "           0.12012,     0.12112,     0.12212,     0.12312,     0.12412,     0.12513,     0.12613,     0.12713,     0.12813,     0.12913,     0.13013,     0.13113,     0.13213,     0.13313,     0.13413,     0.13514,     0.13614,     0.13714,     0.13814,     0.13914,     0.14014,     0.14114,     0.14214,     0.14314,\n",
              "           0.14414,     0.14515,     0.14615,     0.14715,     0.14815,     0.14915,     0.15015,     0.15115,     0.15215,     0.15315,     0.15415,     0.15516,     0.15616,     0.15716,     0.15816,     0.15916,     0.16016,     0.16116,     0.16216,     0.16316,     0.16416,     0.16517,     0.16617,     0.16717,\n",
              "           0.16817,     0.16917,     0.17017,     0.17117,     0.17217,     0.17317,     0.17417,     0.17518,     0.17618,     0.17718,     0.17818,     0.17918,     0.18018,     0.18118,     0.18218,     0.18318,     0.18418,     0.18519,     0.18619,     0.18719,     0.18819,     0.18919,     0.19019,     0.19119,\n",
              "           0.19219,     0.19319,     0.19419,      0.1952,      0.1962,      0.1972,      0.1982,      0.1992,      0.2002,      0.2012,      0.2022,      0.2032,      0.2042,     0.20521,     0.20621,     0.20721,     0.20821,     0.20921,     0.21021,     0.21121,     0.21221,     0.21321,     0.21421,     0.21522,\n",
              "           0.21622,     0.21722,     0.21822,     0.21922,     0.22022,     0.22122,     0.22222,     0.22322,     0.22422,     0.22523,     0.22623,     0.22723,     0.22823,     0.22923,     0.23023,     0.23123,     0.23223,     0.23323,     0.23423,     0.23524,     0.23624,     0.23724,     0.23824,     0.23924,\n",
              "           0.24024,     0.24124,     0.24224,     0.24324,     0.24424,     0.24525,     0.24625,     0.24725,     0.24825,     0.24925,     0.25025,     0.25125,     0.25225,     0.25325,     0.25425,     0.25526,     0.25626,     0.25726,     0.25826,     0.25926,     0.26026,     0.26126,     0.26226,     0.26326,\n",
              "           0.26426,     0.26527,     0.26627,     0.26727,     0.26827,     0.26927,     0.27027,     0.27127,     0.27227,     0.27327,     0.27427,     0.27528,     0.27628,     0.27728,     0.27828,     0.27928,     0.28028,     0.28128,     0.28228,     0.28328,     0.28428,     0.28529,     0.28629,     0.28729,\n",
              "           0.28829,     0.28929,     0.29029,     0.29129,     0.29229,     0.29329,     0.29429,      0.2953,      0.2963,      0.2973,      0.2983,      0.2993,      0.3003,      0.3013,      0.3023,      0.3033,      0.3043,     0.30531,     0.30631,     0.30731,     0.30831,     0.30931,     0.31031,     0.31131,\n",
              "           0.31231,     0.31331,     0.31431,     0.31532,     0.31632,     0.31732,     0.31832,     0.31932,     0.32032,     0.32132,     0.32232,     0.32332,     0.32432,     0.32533,     0.32633,     0.32733,     0.32833,     0.32933,     0.33033,     0.33133,     0.33233,     0.33333,     0.33433,     0.33534,\n",
              "           0.33634,     0.33734,     0.33834,     0.33934,     0.34034,     0.34134,     0.34234,     0.34334,     0.34434,     0.34535,     0.34635,     0.34735,     0.34835,     0.34935,     0.35035,     0.35135,     0.35235,     0.35335,     0.35435,     0.35536,     0.35636,     0.35736,     0.35836,     0.35936,\n",
              "           0.36036,     0.36136,     0.36236,     0.36336,     0.36436,     0.36537,     0.36637,     0.36737,     0.36837,     0.36937,     0.37037,     0.37137,     0.37237,     0.37337,     0.37437,     0.37538,     0.37638,     0.37738,     0.37838,     0.37938,     0.38038,     0.38138,     0.38238,     0.38338,\n",
              "           0.38438,     0.38539,     0.38639,     0.38739,     0.38839,     0.38939,     0.39039,     0.39139,     0.39239,     0.39339,     0.39439,      0.3954,      0.3964,      0.3974,      0.3984,      0.3994,      0.4004,      0.4014,      0.4024,      0.4034,      0.4044,     0.40541,     0.40641,     0.40741,\n",
              "           0.40841,     0.40941,     0.41041,     0.41141,     0.41241,     0.41341,     0.41441,     0.41542,     0.41642,     0.41742,     0.41842,     0.41942,     0.42042,     0.42142,     0.42242,     0.42342,     0.42442,     0.42543,     0.42643,     0.42743,     0.42843,     0.42943,     0.43043,     0.43143,\n",
              "           0.43243,     0.43343,     0.43443,     0.43544,     0.43644,     0.43744,     0.43844,     0.43944,     0.44044,     0.44144,     0.44244,     0.44344,     0.44444,     0.44545,     0.44645,     0.44745,     0.44845,     0.44945,     0.45045,     0.45145,     0.45245,     0.45345,     0.45445,     0.45546,\n",
              "           0.45646,     0.45746,     0.45846,     0.45946,     0.46046,     0.46146,     0.46246,     0.46346,     0.46446,     0.46547,     0.46647,     0.46747,     0.46847,     0.46947,     0.47047,     0.47147,     0.47247,     0.47347,     0.47447,     0.47548,     0.47648,     0.47748,     0.47848,     0.47948,\n",
              "           0.48048,     0.48148,     0.48248,     0.48348,     0.48448,     0.48549,     0.48649,     0.48749,     0.48849,     0.48949,     0.49049,     0.49149,     0.49249,     0.49349,     0.49449,      0.4955,      0.4965,      0.4975,      0.4985,      0.4995,      0.5005,      0.5015,      0.5025,      0.5035,\n",
              "            0.5045,     0.50551,     0.50651,     0.50751,     0.50851,     0.50951,     0.51051,     0.51151,     0.51251,     0.51351,     0.51451,     0.51552,     0.51652,     0.51752,     0.51852,     0.51952,     0.52052,     0.52152,     0.52252,     0.52352,     0.52452,     0.52553,     0.52653,     0.52753,\n",
              "           0.52853,     0.52953,     0.53053,     0.53153,     0.53253,     0.53353,     0.53453,     0.53554,     0.53654,     0.53754,     0.53854,     0.53954,     0.54054,     0.54154,     0.54254,     0.54354,     0.54454,     0.54555,     0.54655,     0.54755,     0.54855,     0.54955,     0.55055,     0.55155,\n",
              "           0.55255,     0.55355,     0.55455,     0.55556,     0.55656,     0.55756,     0.55856,     0.55956,     0.56056,     0.56156,     0.56256,     0.56356,     0.56456,     0.56557,     0.56657,     0.56757,     0.56857,     0.56957,     0.57057,     0.57157,     0.57257,     0.57357,     0.57457,     0.57558,\n",
              "           0.57658,     0.57758,     0.57858,     0.57958,     0.58058,     0.58158,     0.58258,     0.58358,     0.58458,     0.58559,     0.58659,     0.58759,     0.58859,     0.58959,     0.59059,     0.59159,     0.59259,     0.59359,     0.59459,      0.5956,      0.5966,      0.5976,      0.5986,      0.5996,\n",
              "            0.6006,      0.6016,      0.6026,      0.6036,      0.6046,     0.60561,     0.60661,     0.60761,     0.60861,     0.60961,     0.61061,     0.61161,     0.61261,     0.61361,     0.61461,     0.61562,     0.61662,     0.61762,     0.61862,     0.61962,     0.62062,     0.62162,     0.62262,     0.62362,\n",
              "           0.62462,     0.62563,     0.62663,     0.62763,     0.62863,     0.62963,     0.63063,     0.63163,     0.63263,     0.63363,     0.63463,     0.63564,     0.63664,     0.63764,     0.63864,     0.63964,     0.64064,     0.64164,     0.64264,     0.64364,     0.64464,     0.64565,     0.64665,     0.64765,\n",
              "           0.64865,     0.64965,     0.65065,     0.65165,     0.65265,     0.65365,     0.65465,     0.65566,     0.65666,     0.65766,     0.65866,     0.65966,     0.66066,     0.66166,     0.66266,     0.66366,     0.66466,     0.66567,     0.66667,     0.66767,     0.66867,     0.66967,     0.67067,     0.67167,\n",
              "           0.67267,     0.67367,     0.67467,     0.67568,     0.67668,     0.67768,     0.67868,     0.67968,     0.68068,     0.68168,     0.68268,     0.68368,     0.68468,     0.68569,     0.68669,     0.68769,     0.68869,     0.68969,     0.69069,     0.69169,     0.69269,     0.69369,     0.69469,      0.6957,\n",
              "            0.6967,      0.6977,      0.6987,      0.6997,      0.7007,      0.7017,      0.7027,      0.7037,      0.7047,     0.70571,     0.70671,     0.70771,     0.70871,     0.70971,     0.71071,     0.71171,     0.71271,     0.71371,     0.71471,     0.71572,     0.71672,     0.71772,     0.71872,     0.71972,\n",
              "           0.72072,     0.72172,     0.72272,     0.72372,     0.72472,     0.72573,     0.72673,     0.72773,     0.72873,     0.72973,     0.73073,     0.73173,     0.73273,     0.73373,     0.73473,     0.73574,     0.73674,     0.73774,     0.73874,     0.73974,     0.74074,     0.74174,     0.74274,     0.74374,\n",
              "           0.74474,     0.74575,     0.74675,     0.74775,     0.74875,     0.74975,     0.75075,     0.75175,     0.75275,     0.75375,     0.75475,     0.75576,     0.75676,     0.75776,     0.75876,     0.75976,     0.76076,     0.76176,     0.76276,     0.76376,     0.76476,     0.76577,     0.76677,     0.76777,\n",
              "           0.76877,     0.76977,     0.77077,     0.77177,     0.77277,     0.77377,     0.77477,     0.77578,     0.77678,     0.77778,     0.77878,     0.77978,     0.78078,     0.78178,     0.78278,     0.78378,     0.78478,     0.78579,     0.78679,     0.78779,     0.78879,     0.78979,     0.79079,     0.79179,\n",
              "           0.79279,     0.79379,     0.79479,      0.7958,      0.7968,      0.7978,      0.7988,      0.7998,      0.8008,      0.8018,      0.8028,      0.8038,      0.8048,     0.80581,     0.80681,     0.80781,     0.80881,     0.80981,     0.81081,     0.81181,     0.81281,     0.81381,     0.81481,     0.81582,\n",
              "           0.81682,     0.81782,     0.81882,     0.81982,     0.82082,     0.82182,     0.82282,     0.82382,     0.82482,     0.82583,     0.82683,     0.82783,     0.82883,     0.82983,     0.83083,     0.83183,     0.83283,     0.83383,     0.83483,     0.83584,     0.83684,     0.83784,     0.83884,     0.83984,\n",
              "           0.84084,     0.84184,     0.84284,     0.84384,     0.84484,     0.84585,     0.84685,     0.84785,     0.84885,     0.84985,     0.85085,     0.85185,     0.85285,     0.85385,     0.85485,     0.85586,     0.85686,     0.85786,     0.85886,     0.85986,     0.86086,     0.86186,     0.86286,     0.86386,\n",
              "           0.86486,     0.86587,     0.86687,     0.86787,     0.86887,     0.86987,     0.87087,     0.87187,     0.87287,     0.87387,     0.87487,     0.87588,     0.87688,     0.87788,     0.87888,     0.87988,     0.88088,     0.88188,     0.88288,     0.88388,     0.88488,     0.88589,     0.88689,     0.88789,\n",
              "           0.88889,     0.88989,     0.89089,     0.89189,     0.89289,     0.89389,     0.89489,      0.8959,      0.8969,      0.8979,      0.8989,      0.8999,      0.9009,      0.9019,      0.9029,      0.9039,      0.9049,     0.90591,     0.90691,     0.90791,     0.90891,     0.90991,     0.91091,     0.91191,\n",
              "           0.91291,     0.91391,     0.91491,     0.91592,     0.91692,     0.91792,     0.91892,     0.91992,     0.92092,     0.92192,     0.92292,     0.92392,     0.92492,     0.92593,     0.92693,     0.92793,     0.92893,     0.92993,     0.93093,     0.93193,     0.93293,     0.93393,     0.93493,     0.93594,\n",
              "           0.93694,     0.93794,     0.93894,     0.93994,     0.94094,     0.94194,     0.94294,     0.94394,     0.94494,     0.94595,     0.94695,     0.94795,     0.94895,     0.94995,     0.95095,     0.95195,     0.95295,     0.95395,     0.95495,     0.95596,     0.95696,     0.95796,     0.95896,     0.95996,\n",
              "           0.96096,     0.96196,     0.96296,     0.96396,     0.96496,     0.96597,     0.96697,     0.96797,     0.96897,     0.96997,     0.97097,     0.97197,     0.97297,     0.97397,     0.97497,     0.97598,     0.97698,     0.97798,     0.97898,     0.97998,     0.98098,     0.98198,     0.98298,     0.98398,\n",
              "           0.98498,     0.98599,     0.98699,     0.98799,     0.98899,     0.98999,     0.99099,     0.99199,     0.99299,     0.99399,     0.99499,       0.996,       0.997,       0.998,       0.999,           1]), array([[     0.9808,      0.9808,     0.97208,      0.9651,     0.95637,     0.95113,     0.94764,     0.94241,     0.94066,     0.93717,     0.93543,     0.93543,     0.93543,     0.93368,     0.93368,     0.93194,     0.93019,     0.93019,     0.92845,      0.9267,     0.92496,     0.92321,     0.91972,\n",
              "            0.91449,     0.91274,     0.91099,     0.91099,     0.90576,     0.90227,     0.90052,     0.89878,     0.89878,     0.89529,      0.8918,     0.88831,     0.88482,     0.88307,     0.88307,     0.88307,     0.88307,     0.88307,     0.88307,     0.88133,     0.88133,     0.88133,     0.88133,\n",
              "            0.88133,     0.87958,     0.87958,     0.87958,     0.87958,     0.87958,     0.87958,     0.87958,     0.87958,     0.87784,     0.87609,      0.8726,      0.8726,      0.8726,      0.8726,      0.8726,     0.87086,     0.86782,     0.86562,     0.86562,     0.86387,     0.86213,     0.86038,\n",
              "            0.86038,     0.85515,     0.85515,     0.85166,     0.85146,     0.84817,     0.84817,     0.84817,     0.84642,     0.84468,     0.84431,     0.84293,     0.84293,     0.84119,     0.83944,     0.83944,     0.83942,     0.83595,     0.83595,     0.83595,     0.83595,     0.83595,     0.83421,\n",
              "            0.83072,     0.82897,     0.82897,     0.82897,     0.82897,     0.82897,     0.82897,     0.82897,     0.82723,     0.82723,     0.82723,     0.82548,     0.82548,     0.82548,     0.82373,     0.82373,     0.82373,     0.82373,     0.82373,     0.82199,     0.82199,     0.82199,     0.82199,\n",
              "            0.82024,     0.82024,     0.82024,      0.8185,      0.8185,     0.81326,     0.81326,     0.81326,     0.81326,     0.81326,     0.81326,     0.81326,     0.80977,     0.80977,     0.80803,     0.80803,     0.80803,     0.80628,     0.80628,     0.80628,     0.80628,     0.80454,     0.80279,\n",
              "            0.80105,     0.80105,     0.79756,     0.79756,     0.79756,     0.79265,     0.79232,     0.79232,     0.79232,     0.79232,     0.79232,     0.79232,     0.79058,     0.79058,     0.78883,     0.78883,     0.78883,     0.78883,     0.78873,     0.78709,     0.78709,     0.78541,     0.78534,\n",
              "             0.7836,      0.7836,     0.78217,      0.7801,     0.77836,     0.77661,     0.77661,     0.77312,     0.77213,     0.76892,     0.76789,     0.76789,     0.76718,     0.76614,      0.7644,      0.7644,      0.7644,     0.76035,     0.75916,     0.75567,     0.75419,     0.75218,     0.75218,\n",
              "            0.75218,     0.75142,     0.75044,     0.75044,     0.74869,     0.74869,     0.74869,     0.74869,     0.74869,     0.74695,      0.7452,      0.7452,     0.74517,     0.74407,     0.74171,     0.74171,     0.73997,     0.73997,     0.73997,     0.73997,     0.73997,     0.73822,     0.73822,\n",
              "            0.73737,     0.73647,     0.73647,     0.73473,     0.73473,     0.73473,     0.73124,     0.72949,     0.72949,     0.72949,     0.72949,     0.72949,     0.72775,       0.726,       0.726,       0.726,       0.726,     0.72492,     0.72426,     0.72077,     0.72077,     0.71728,     0.71628,\n",
              "            0.71204,     0.71204,      0.7103,      0.7103,      0.7103,      0.7103,      0.7103,     0.70855,     0.70855,     0.70855,     0.70855,     0.70855,     0.70681,     0.70429,     0.70332,     0.70332,     0.70332,     0.70332,     0.70332,     0.70191,     0.70153,     0.69873,     0.69808,\n",
              "            0.69808,     0.69808,     0.69808,     0.69808,     0.69808,     0.69808,     0.69754,     0.69634,     0.69284,     0.69271,      0.6911,      0.6911,     0.68935,     0.68935,     0.68935,     0.68935,     0.68707,     0.68389,       0.683,     0.68237,     0.68237,     0.68237,     0.68237,\n",
              "            0.68143,     0.67888,     0.67888,     0.67888,     0.67888,     0.67888,     0.67888,     0.67888,     0.67851,     0.67365,     0.67365,     0.67365,      0.6719,     0.66667,     0.66665,     0.66492,     0.66362,     0.66143,     0.66143,     0.66143,     0.65969,      0.6581,     0.65794,\n",
              "             0.6562,     0.65445,     0.65445,     0.65445,     0.65445,     0.65445,     0.65445,     0.65445,     0.65445,     0.65445,     0.65445,     0.65445,     0.65346,     0.65271,     0.65271,     0.65271,     0.65271,     0.65096,     0.65096,     0.65096,     0.65096,     0.65096,     0.65096,\n",
              "            0.64921,     0.64888,     0.64786,     0.64654,     0.64572,     0.64572,     0.64524,     0.64229,     0.64049,     0.64049,     0.64049,     0.63933,     0.63733,       0.637,       0.637,       0.637,       0.637,       0.637,       0.637,       0.637,       0.637,       0.637,       0.637,\n",
              "            0.63607,     0.63525,     0.63395,     0.63351,     0.63351,      0.6335,     0.63261,     0.63176,     0.63176,     0.63176,     0.63087,     0.62887,     0.62732,     0.62478,     0.62478,     0.62478,     0.62429,     0.62129,     0.61955,      0.6157,     0.61511,     0.61451,     0.61431,\n",
              "            0.61431,     0.61355,     0.61275,     0.61165,     0.61028,     0.60908,     0.60908,     0.60908,     0.60866,     0.60801,     0.60736,     0.60389,     0.60384,     0.60334,     0.60209,     0.60209,     0.60059,     0.60035,     0.60035,     0.60019,     0.59929,      0.5986,     0.59771,\n",
              "            0.59686,     0.59686,     0.59511,     0.59337,     0.59337,     0.59337,     0.59337,     0.59337,     0.59337,     0.59337,     0.59282,      0.5921,     0.59045,     0.58988,     0.58833,     0.58813,     0.58813,     0.58777,     0.58639,     0.58639,     0.58639,     0.58639,     0.58639,\n",
              "            0.58639,     0.58528,     0.58407,     0.58317,     0.58166,     0.58051,     0.57962,     0.57804,     0.57766,     0.57751,     0.57592,     0.57592,     0.57592,     0.57417,     0.57417,     0.57417,     0.57417,     0.57417,     0.57417,     0.57417,     0.57417,     0.57417,     0.57243,\n",
              "            0.56948,     0.56894,     0.56894,     0.56719,     0.56673,     0.56614,     0.56554,     0.56545,     0.56545,     0.56545,     0.56545,     0.56461,     0.56371,     0.56282,     0.56189,     0.56016,     0.55926,     0.55821,     0.55672,     0.55672,     0.55672,     0.55591,     0.55455,\n",
              "            0.55365,     0.55323,     0.55323,     0.55323,     0.55305,     0.55275,     0.55245,     0.55216,     0.55186,     0.55156,     0.55148,     0.55148,     0.55148,     0.54974,     0.54823,     0.54625,     0.54625,     0.54592,     0.54556,     0.54521,     0.54485,     0.54447,     0.54358,\n",
              "            0.54261,     0.53927,     0.53903,     0.53752,     0.53752,     0.53578,     0.53536,     0.53403,     0.53403,     0.53403,     0.53403,     0.53403,     0.53403,     0.53403,     0.53403,     0.53376,     0.53317,     0.53257,     0.53229,     0.53054,     0.53003,     0.52913,      0.5288,\n",
              "             0.5288,      0.5288,      0.5288,      0.5288,      0.5288,      0.5288,     0.52738,     0.52559,     0.52493,     0.52448,     0.52403,     0.52359,     0.52356,     0.52182,     0.52182,     0.52182,     0.52182,     0.52166,     0.52007,     0.52007,     0.52007,     0.52007,     0.52007,\n",
              "            0.52007,     0.52007,     0.52007,     0.51952,     0.51832,     0.51832,     0.51832,     0.51658,     0.51658,     0.51658,     0.51658,     0.51658,     0.51564,     0.51483,     0.51483,     0.51483,     0.51483,     0.51483,     0.51483,     0.51483,     0.51483,     0.51309,      0.5124,\n",
              "            0.51151,     0.51134,     0.51134,     0.51134,     0.51028,      0.5096,      0.5096,      0.5096,      0.5096,      0.5096,      0.5096,     0.50857,     0.50593,     0.50563,     0.50533,     0.50504,     0.50474,     0.50444,     0.50303,     0.50262,     0.50087,     0.49941,     0.49837,\n",
              "            0.49748,     0.49564,     0.49564,     0.49564,     0.49564,     0.49493,     0.49421,     0.49356,     0.49297,     0.49237,     0.49215,     0.49215,     0.49094,     0.48915,     0.48866,     0.48866,     0.48866,     0.48866,     0.48866,     0.48866,      0.4871,     0.48498,     0.48454,\n",
              "            0.48409,     0.48364,     0.48297,     0.48208,     0.48148,     0.48112,     0.48076,      0.4804,     0.48005,     0.47945,     0.47873,     0.47818,     0.47772,     0.47644,     0.47644,     0.47644,     0.47644,     0.47599,     0.47479,     0.47213,     0.47123,     0.46773,     0.46597,\n",
              "            0.46597,     0.46597,     0.46597,     0.46597,     0.46597,     0.46597,     0.46362,     0.46273,     0.46248,     0.45845,     0.45774,     0.45697,     0.45607,     0.45528,     0.45469,     0.45409,     0.45375,     0.45207,     0.45201,     0.45199,      0.4511,     0.45026,      0.4502,\n",
              "            0.44948,     0.44877,     0.44561,     0.44468,     0.44417,     0.44366,     0.44282,     0.44154,     0.44154,     0.44154,     0.44103,     0.44044,     0.43984,     0.43932,     0.43881,      0.4383,     0.43714,     0.43567,     0.43455,     0.43455,     0.43455,     0.43455,     0.43397,\n",
              "             0.4316,     0.43044,     0.42954,     0.42719,     0.42668,     0.42617,     0.42289,     0.42234,     0.42078,     0.42014,     0.41963,     0.41911,     0.41873,     0.41847,     0.41821,     0.41796,      0.4177,     0.41745,     0.41719,      0.4171,      0.4171,      0.4171,      0.4171,\n",
              "             0.4171,      0.4171,      0.4171,     0.41506,     0.41416,     0.41187,      0.4116,      0.4113,       0.411,     0.41071,     0.41041,     0.41005,     0.40814,      0.4056,     0.40417,     0.40289,      0.4012,     0.40001,     0.39965,     0.39965,     0.39593,     0.39503,     0.39405,\n",
              "            0.39285,     0.38941,      0.3884,     0.38751,     0.38661,     0.38572,      0.3837,     0.38319,     0.38268,     0.38212,     0.38093,     0.37799,      0.3769,     0.37645,     0.37601,     0.37556,     0.37505,     0.37433,     0.37362,     0.37078,       0.368,     0.36728,     0.36657,\n",
              "            0.36603,     0.36552,     0.36501,     0.36389,     0.36122,     0.35936,     0.35677,     0.35499,     0.35374,     0.35284,     0.35175,     0.35065,     0.34993,     0.34922,     0.34013,     0.33941,      0.3387,     0.33815,     0.33764,     0.33713,     0.33536,     0.33343,     0.33077,\n",
              "            0.32463,     0.32401,     0.32342,     0.32274,     0.32079,     0.31414,     0.31414,       0.312,     0.31141,     0.31081,     0.30698,     0.30627,     0.30555,      0.3047,      0.3038,     0.30091,     0.29531,     0.29414,     0.29324,     0.28858,     0.28623,     0.28445,     0.28374,\n",
              "            0.28302,     0.28203,     0.28056,     0.27848,     0.27689,     0.27319,     0.27025,     0.26906,     0.26742,     0.26609,     0.26527,     0.26527,     0.26451,     0.26362,     0.25682,     0.25228,     0.25049,      0.2487,     0.24547,      0.2443,     0.24358,     0.24287,     0.24215,\n",
              "            0.24143,     0.24054,     0.23667,     0.23435,     0.23386,     0.23362,     0.23273,     0.23099,     0.22889,     0.22612,     0.22522,     0.22352,     0.22054,     0.21792,      0.2174,     0.21689,     0.21633,     0.21462,     0.21411,      0.2136,     0.21309,     0.21174,     0.21036,\n",
              "            0.20729,     0.20583,     0.20538,     0.20493,     0.20448,     0.20298,      0.2007,      0.2007,      0.2007,     0.19813,     0.19723,     0.19199,     0.18977,     0.18888,     0.18749,     0.18466,     0.18216,       0.179,     0.17786,     0.17697,     0.17627,      0.1754,     0.17357,\n",
              "            0.17222,      0.1715,     0.17103,     0.17103,     0.17103,     0.16907,     0.16856,     0.16805,     0.16754,     0.16576,     0.16397,     0.16218,     0.16039,      0.1586,     0.15707,     0.15647,     0.15451,     0.15164,     0.15074,     0.14914,     0.14695,     0.14604,     0.14364,\n",
              "            0.14071,     0.13946,     0.13906,     0.13867,     0.13827,     0.13787,     0.13698,     0.13613,     0.13434,     0.13383,     0.13332,     0.13281,     0.13264,     0.13264,     0.13264,     0.13264,     0.12914,      0.1288,     0.12761,       0.127,      0.1258,     0.12526,     0.12482,\n",
              "            0.12437,     0.12392,     0.12304,     0.12209,     0.11978,     0.11684,     0.11565,     0.11322,     0.10969,     0.10459,     0.10388,     0.10316,     0.10244,     0.10173,      0.1007,    0.098913,    0.097558,    0.097047,    0.096536,    0.096024,    0.094332,    0.090798,     0.09017,\n",
              "           0.089574,    0.088838,     0.08526,    0.081853,    0.078427,    0.077532,    0.076487,    0.074352,    0.072878,    0.072281,    0.071685,     0.07016,    0.065753,    0.063357,    0.062218,    0.061502,    0.061082,    0.060299,     0.05502,    0.053521,    0.052335,    0.051441,    0.050354,\n",
              "           0.045289,    0.044395,    0.041366,    0.039356,     0.03421,    0.031896,     0.03104,    0.030529,    0.030018,    0.027697,    0.026982,    0.026266,    0.025132,    0.022194,    0.021002,    0.017543,    0.014836,    0.013047,    0.011737,    0.010843,     0.01021,   0.0097626,   0.0093154,\n",
              "          0.0088682,   0.0079125,   0.0065895,   0.0051486,   0.0047908,   0.0044331,   0.0040753,   0.0037175,   0.0032291,   0.0025135,    0.001798,           0,           0,           0,           0,           0,           0,           0,           0,           0,           0,           0,           0,\n",
              "                  0,           0,           0,           0,           0,           0,           0,           0,           0,           0,           0]]), 'Confidence', 'Recall']]\n",
              "fitness: np.float64(0.5393527151377177)\n",
              "keys: ['metrics/precision(B)', 'metrics/recall(B)', 'metrics/mAP50(B)', 'metrics/mAP50-95(B)']\n",
              "maps: array([    0.52265])\n",
              "names: {0: 'Rust'}\n",
              "plot: True\n",
              "results_dict: {'metrics/precision(B)': np.float64(0.67427690835235), 'metrics/recall(B)': np.float64(0.6143106457242583), 'metrics/mAP50(B)': np.float64(0.6896470714421151), 'metrics/mAP50-95(B)': np.float64(0.5226533422150068), 'fitness': np.float64(0.5393527151377177)}\n",
              "save_dir: PosixPath('runs/detect/yolov9m_train')\n",
              "speed: {'preprocess': 0.29539328500277406, 'inference': 13.285344375001387, 'loss': 0.0005887299948881264, 'postprocess': 3.7190911300012885}\n",
              "task: 'detect'"
            ]
          },
          "execution_count": 5,
          "metadata": {},
          "output_type": "execute_result"
        }
      ],
      "source": [
        "model.train(\n",
        "    data='/content/Rust-1/data.yaml',  \n",
        "    imgsz=640,                      \n",
        "    epochs=30,                      \n",
        "    batch=16,                       \n",
        "    workers=4,                      \n",
        "    device=0,                       \n",
        "                 \n",
        "    name='yolov9m_train',            \n",
        "                     \n",
        ")"
      ]
    },
    {
      "cell_type": "code",
      "execution_count": null,
      "metadata": {
        "colab": {
          "base_uri": "https://localhost:8080/"
        },
        "id": "F8qHsv9CobgH",
        "outputId": "e2680b0e-2306-4d9f-c339-854b276672ef"
      },
      "outputs": [
        {
          "name": "stdout",
          "output_type": "stream",
          "text": [
            "--2025-04-25 12:06:41--  https://www.alideck.co.uk/wp-content/uploads/2021/10/galvanic-corrosion-example-5x7-1.jpg\n",
            "Resolving www.alideck.co.uk (www.alideck.co.uk)... 151.101.194.159\n",
            "Connecting to www.alideck.co.uk (www.alideck.co.uk)|151.101.194.159|:443... connected.\n",
            "HTTP request sent, awaiting response... 200 OK\n",
            "Length: 1019043 (995K) [image/jpeg]\n",
            "Saving to: ‘galvanic-corrosion-example-5x7-1.jpg’\n",
            "\n",
            "galvanic-corrosion- 100%[===================>] 995.16K  --.-KB/s    in 0.05s   \n",
            "\n",
            "2025-04-25 12:06:41 (21.0 MB/s) - ‘galvanic-corrosion-example-5x7-1.jpg’ saved [1019043/1019043]\n",
            "\n"
          ]
        }
      ],
      "source": [
        "!wget https://www.alideck.co.uk/wp-content/uploads/2021/10/galvanic-corrosion-example-5x7-1.jpg # this will download the image inside colab "
      ]
    },
    {
      "cell_type": "code",
      "execution_count": 14,
      "metadata": {
        "id": "EOyVxxPYeK-n"
      },
      "outputs": [],
      "source": []
    },
    {
      "cell_type": "code",
      "execution_count": null,
      "metadata": {
        "id": "m5nS7NEieLFz"
      },
      "outputs": [],
      "source": [
        "best_model = YOLO('/content/runs/detect/yolov9m_train/weights/best.pt')"
      ]
    },
    {
      "cell_type": "code",
      "execution_count": 19,
      "metadata": {
        "colab": {
          "base_uri": "https://localhost:8080/"
        },
        "id": "EGcwjx2ZeLHj",
        "outputId": "b0c30a39-0574-407c-967a-4fc77197cd2e"
      },
      "outputs": [
        {
          "name": "stdout",
          "output_type": "stream",
          "text": [
            "\n",
            "image 1/1 /content/galvanic-corrosion-example-5x7-1.jpg: 480x640 8 Rusts, 44.6ms\n",
            "Speed: 2.7ms preprocess, 44.6ms inference, 1.7ms postprocess per image at shape (1, 3, 480, 640)\n",
            "Results saved to \u001b[1mruns/detect/predict2\u001b[0m\n"
          ]
        },
        {
          "data": {
            "text/plain": [
              "[ultralytics.engine.results.Results object with attributes:\n",
              " \n",
              " boxes: ultralytics.engine.results.Boxes object\n",
              " keypoints: None\n",
              " masks: None\n",
              " names: {0: 'Rust'}\n",
              " obb: None\n",
              " orig_img: array([[[210, 194, 195],\n",
              "         [205, 189, 190],\n",
              "         [204, 189, 187],\n",
              "         ...,\n",
              "         [242, 201, 179],\n",
              "         [242, 200, 177],\n",
              "         [241, 197, 174]],\n",
              " \n",
              "        [[187, 173, 175],\n",
              "         [191, 177, 179],\n",
              "         [188, 174, 175],\n",
              "         ...,\n",
              "         [228, 186, 167],\n",
              "         [235, 192, 171],\n",
              "         [232, 187, 166]],\n",
              " \n",
              "        [[180, 169, 171],\n",
              "         [180, 167, 169],\n",
              "         [182, 171, 173],\n",
              "         ...,\n",
              "         [220, 177, 156],\n",
              "         [219, 174, 153],\n",
              "         [228, 181, 160]],\n",
              " \n",
              "        ...,\n",
              " \n",
              "        [[125, 142, 155],\n",
              "         [114, 130, 146],\n",
              "         [110, 125, 144],\n",
              "         ...,\n",
              "         [114, 112, 104],\n",
              "         [112, 108, 103],\n",
              "         [108, 102,  95]],\n",
              " \n",
              "        [[116, 132, 149],\n",
              "         [114, 129, 148],\n",
              "         [119, 133, 155],\n",
              "         ...,\n",
              "         [122, 120, 112],\n",
              "         [113, 112, 102],\n",
              "         [107, 104,  96]],\n",
              " \n",
              "        [[128, 144, 161],\n",
              "         [124, 138, 157],\n",
              "         [126, 140, 162],\n",
              "         ...,\n",
              "         [122, 123, 114],\n",
              "         [126, 123, 115],\n",
              "         [132, 126, 119]]], dtype=uint8)\n",
              " orig_shape: (857, 1200)\n",
              " path: '/content/galvanic-corrosion-example-5x7-1.jpg'\n",
              " probs: None\n",
              " save_dir: 'runs/detect/predict2'\n",
              " speed: {'preprocess': 2.6793779998115497, 'inference': 44.56641300021147, 'postprocess': 1.6826330002004397}]"
            ]
          },
          "execution_count": 19,
          "metadata": {},
          "output_type": "execute_result"
        }
      ],
      "source": [
        "best_model.predict(\"galvanic-corrosion-example-5x7-1.jpg\",save=True)"
      ]
    },
    {
      "cell_type": "code",
      "execution_count": null,
      "metadata": {
        "id": "CO0er7RSqyy2"
      },
      "outputs": [],
      "source": []
    }
  ],
  "metadata": {
    "accelerator": "GPU",
    "colab": {
      "gpuType": "T4",
      "provenance": []
    },
    "kernelspec": {
      "display_name": "Python 3",
      "name": "python3"
    },
    "language_info": {
      "name": "python"
    }
  },
  "nbformat": 4,
  "nbformat_minor": 0
}
